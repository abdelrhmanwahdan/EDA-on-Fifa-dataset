{
 "cells": [
  {
   "cell_type": "markdown",
   "id": "237892fa",
   "metadata": {
    "id": "kCdw_d19tYMX",
    "papermill": {
     "duration": 0.025634,
     "end_time": "2022-10-21T19:45:28.751681",
     "exception": false,
     "start_time": "2022-10-21T19:45:28.726047",
     "status": "completed"
    },
    "tags": []
   },
   "source": [
    "## EDA ON FOOTBALL PLAYERS STATISTICS FROM FIFA ⚽\n",
    "\n",
    "![Fifa](images/fifa.jpg)\n",
    "\n",
    "\n",
    "# Table of Contents\n",
    "\n",
    "\n",
    "1. [**IMPORTING LIBRARIES**](#Importing_libraries)\n",
    "\n",
    "2. [**DATA DESCRIPTION AND DATA CLEANING**](#Data_description_and_data_cleaning)\n",
    "\n",
    "    1. [Import data](#Import_data)\n",
    "\n",
    "    2. [Data Exploration](#Data_exploration)\n",
    "\n",
    "    3. [Data cleaning](#Data_cleaning)\n",
    "\n",
    "3. [**DATA Visualization**](#Visualization)\n",
    "\n",
    "    1. [Univariate analysis](#Univariate_analysis)\n",
    "\n",
    "    2. [Bivariate analysis](#Bivariate_analysis)\n",
    "\n",
    "    3. [Descriptive analysis](#Descriptive_analysis)\n",
    "    \n",
    "4. [**REMOVING UNNECESSARY COLUMNS**](#removing_columns)"
   ]
  },
  {
   "cell_type": "markdown",
   "id": "0cee58e0",
   "metadata": {
    "id": "GgJmw8kkKJGP",
    "papermill": {
     "duration": 0.02071,
     "end_time": "2022-10-21T19:45:28.835889",
     "exception": false,
     "start_time": "2022-10-21T19:45:28.815179",
     "status": "completed"
    },
    "tags": []
   },
   "source": [
    "## Import libraries <a name = \"Importing_libraries\"></a>"
   ]
  },
  {
   "cell_type": "code",
   "execution_count": 1,
   "id": "c2d68b5b",
   "metadata": {
    "execution": {
     "iopub.execute_input": "2022-10-21T19:45:28.880873Z",
     "iopub.status.busy": "2022-10-21T19:45:28.879924Z",
     "iopub.status.idle": "2022-10-21T19:45:29.870326Z",
     "shell.execute_reply": "2022-10-21T19:45:29.869169Z"
    },
    "id": "a0Xq4yJib_F0",
    "papermill": {
     "duration": 1.015941,
     "end_time": "2022-10-21T19:45:29.873181",
     "exception": false,
     "start_time": "2022-10-21T19:45:28.857240",
     "status": "completed"
    },
    "tags": []
   },
   "outputs": [],
   "source": [
    "import pandas as pd\n",
    "import numpy as np\n",
    "import seaborn as sns\n",
    "import matplotlib.pyplot as plt\n",
    "%matplotlib inline \n",
    "sns.set(rc={'figure.figsize': [15, 8]}, font_scale=1.2) # Standard figure size for all\n"
   ]
  },
  {
   "cell_type": "markdown",
   "id": "7a51923c",
   "metadata": {},
   "source": [
    "## Data Description and cleaning <a name = \"Data_description_and_data_cleaning\"></a>"
   ]
  },
  {
   "cell_type": "markdown",
   "id": "5e1e395b",
   "metadata": {
    "id": "lplUn7q5KTQP",
    "papermill": {
     "duration": 0.021181,
     "end_time": "2022-10-21T19:45:29.916081",
     "exception": false,
     "start_time": "2022-10-21T19:45:29.894900",
     "status": "completed"
    },
    "tags": []
   },
   "source": [
    "### Import the dataset <a name = \"Import_data\"></a>"
   ]
  },
  {
   "cell_type": "code",
   "execution_count": 2,
   "id": "c3e80032",
   "metadata": {
    "execution": {
     "iopub.execute_input": "2022-10-21T19:45:29.959982Z",
     "iopub.status.busy": "2022-10-21T19:45:29.959547Z",
     "iopub.status.idle": "2022-10-21T19:45:30.195785Z",
     "shell.execute_reply": "2022-10-21T19:45:30.194376Z"
    },
    "id": "13fVAoslcGNm",
    "papermill": {
     "duration": 0.261836,
     "end_time": "2022-10-21T19:45:30.198980",
     "exception": false,
     "start_time": "2022-10-21T19:45:29.937144",
     "status": "completed"
    },
    "tags": []
   },
   "outputs": [],
   "source": [
    "df=pd.read_csv('fifa_eda_stats.csv',index_col=0,na_values=True)"
   ]
  },
  {
   "cell_type": "markdown",
   "id": "3ffc5a44",
   "metadata": {
    "id": "cmj2RFYUyQ6o",
    "papermill": {
     "duration": 0.021875,
     "end_time": "2022-10-21T19:45:30.603299",
     "exception": false,
     "start_time": "2022-10-21T19:45:30.581424",
     "status": "completed"
    },
    "tags": []
   },
   "source": [
    "### Data Exploration <a name = \"Data_exploration\"></a>"
   ]
  },
  {
   "cell_type": "code",
   "execution_count": 3,
   "id": "91c49b9c",
   "metadata": {},
   "outputs": [
    {
     "data": {
      "text/plain": [
       "(18207, 56)"
      ]
     },
     "execution_count": 3,
     "metadata": {},
     "output_type": "execute_result"
    }
   ],
   "source": [
    "df.shape"
   ]
  },
  {
   "cell_type": "code",
   "execution_count": 4,
   "id": "3b475e9b",
   "metadata": {},
   "outputs": [
    {
     "data": {
      "text/html": [
       "<div>\n",
       "<style scoped>\n",
       "    .dataframe tbody tr th:only-of-type {\n",
       "        vertical-align: middle;\n",
       "    }\n",
       "\n",
       "    .dataframe tbody tr th {\n",
       "        vertical-align: top;\n",
       "    }\n",
       "\n",
       "    .dataframe thead th {\n",
       "        text-align: right;\n",
       "    }\n",
       "</style>\n",
       "<table border=\"1\" class=\"dataframe\">\n",
       "  <thead>\n",
       "    <tr style=\"text-align: right;\">\n",
       "      <th></th>\n",
       "      <th>Name</th>\n",
       "      <th>Age</th>\n",
       "      <th>Nationality</th>\n",
       "      <th>Overall</th>\n",
       "      <th>Potential</th>\n",
       "      <th>Club</th>\n",
       "      <th>Value</th>\n",
       "      <th>Wage</th>\n",
       "      <th>Preferred Foot</th>\n",
       "      <th>International Reputation</th>\n",
       "      <th>...</th>\n",
       "      <th>Composure</th>\n",
       "      <th>Marking</th>\n",
       "      <th>StandingTackle</th>\n",
       "      <th>SlidingTackle</th>\n",
       "      <th>GKDiving</th>\n",
       "      <th>GKHandling</th>\n",
       "      <th>GKKicking</th>\n",
       "      <th>GKPositioning</th>\n",
       "      <th>GKReflexes</th>\n",
       "      <th>Release Clause</th>\n",
       "    </tr>\n",
       "    <tr>\n",
       "      <th>ID</th>\n",
       "      <th></th>\n",
       "      <th></th>\n",
       "      <th></th>\n",
       "      <th></th>\n",
       "      <th></th>\n",
       "      <th></th>\n",
       "      <th></th>\n",
       "      <th></th>\n",
       "      <th></th>\n",
       "      <th></th>\n",
       "      <th></th>\n",
       "      <th></th>\n",
       "      <th></th>\n",
       "      <th></th>\n",
       "      <th></th>\n",
       "      <th></th>\n",
       "      <th></th>\n",
       "      <th></th>\n",
       "      <th></th>\n",
       "      <th></th>\n",
       "      <th></th>\n",
       "    </tr>\n",
       "  </thead>\n",
       "  <tbody>\n",
       "    <tr>\n",
       "      <th>158023</th>\n",
       "      <td>L. Messi</td>\n",
       "      <td>31</td>\n",
       "      <td>Argentina</td>\n",
       "      <td>94</td>\n",
       "      <td>94</td>\n",
       "      <td>FC Barcelona</td>\n",
       "      <td>€110.5M</td>\n",
       "      <td>€565K</td>\n",
       "      <td>Left</td>\n",
       "      <td>5.0</td>\n",
       "      <td>...</td>\n",
       "      <td>96.0</td>\n",
       "      <td>33.0</td>\n",
       "      <td>28.0</td>\n",
       "      <td>26.0</td>\n",
       "      <td>6.0</td>\n",
       "      <td>11.0</td>\n",
       "      <td>15.0</td>\n",
       "      <td>14.0</td>\n",
       "      <td>8.0</td>\n",
       "      <td>€226.5M</td>\n",
       "    </tr>\n",
       "    <tr>\n",
       "      <th>20801</th>\n",
       "      <td>Cristiano Ronaldo</td>\n",
       "      <td>33</td>\n",
       "      <td>Portugal</td>\n",
       "      <td>94</td>\n",
       "      <td>94</td>\n",
       "      <td>Juventus</td>\n",
       "      <td>€77M</td>\n",
       "      <td>€405K</td>\n",
       "      <td>Right</td>\n",
       "      <td>5.0</td>\n",
       "      <td>...</td>\n",
       "      <td>95.0</td>\n",
       "      <td>28.0</td>\n",
       "      <td>31.0</td>\n",
       "      <td>23.0</td>\n",
       "      <td>7.0</td>\n",
       "      <td>11.0</td>\n",
       "      <td>15.0</td>\n",
       "      <td>14.0</td>\n",
       "      <td>11.0</td>\n",
       "      <td>€127.1M</td>\n",
       "    </tr>\n",
       "    <tr>\n",
       "      <th>190871</th>\n",
       "      <td>Neymar Jr</td>\n",
       "      <td>26</td>\n",
       "      <td>Brazil</td>\n",
       "      <td>92</td>\n",
       "      <td>93</td>\n",
       "      <td>Paris Saint-Germain</td>\n",
       "      <td>€118.5M</td>\n",
       "      <td>€290K</td>\n",
       "      <td>Right</td>\n",
       "      <td>5.0</td>\n",
       "      <td>...</td>\n",
       "      <td>94.0</td>\n",
       "      <td>27.0</td>\n",
       "      <td>24.0</td>\n",
       "      <td>33.0</td>\n",
       "      <td>9.0</td>\n",
       "      <td>9.0</td>\n",
       "      <td>15.0</td>\n",
       "      <td>15.0</td>\n",
       "      <td>11.0</td>\n",
       "      <td>€228.1M</td>\n",
       "    </tr>\n",
       "    <tr>\n",
       "      <th>193080</th>\n",
       "      <td>De Gea</td>\n",
       "      <td>27</td>\n",
       "      <td>Spain</td>\n",
       "      <td>91</td>\n",
       "      <td>93</td>\n",
       "      <td>Manchester United</td>\n",
       "      <td>€72M</td>\n",
       "      <td>€260K</td>\n",
       "      <td>Right</td>\n",
       "      <td>4.0</td>\n",
       "      <td>...</td>\n",
       "      <td>68.0</td>\n",
       "      <td>15.0</td>\n",
       "      <td>21.0</td>\n",
       "      <td>13.0</td>\n",
       "      <td>90.0</td>\n",
       "      <td>85.0</td>\n",
       "      <td>87.0</td>\n",
       "      <td>88.0</td>\n",
       "      <td>94.0</td>\n",
       "      <td>€138.6M</td>\n",
       "    </tr>\n",
       "    <tr>\n",
       "      <th>192985</th>\n",
       "      <td>K. De Bruyne</td>\n",
       "      <td>27</td>\n",
       "      <td>Belgium</td>\n",
       "      <td>91</td>\n",
       "      <td>92</td>\n",
       "      <td>Manchester City</td>\n",
       "      <td>€102M</td>\n",
       "      <td>€355K</td>\n",
       "      <td>Right</td>\n",
       "      <td>4.0</td>\n",
       "      <td>...</td>\n",
       "      <td>88.0</td>\n",
       "      <td>68.0</td>\n",
       "      <td>58.0</td>\n",
       "      <td>51.0</td>\n",
       "      <td>15.0</td>\n",
       "      <td>13.0</td>\n",
       "      <td>5.0</td>\n",
       "      <td>10.0</td>\n",
       "      <td>13.0</td>\n",
       "      <td>€196.4M</td>\n",
       "    </tr>\n",
       "  </tbody>\n",
       "</table>\n",
       "<p>5 rows × 56 columns</p>\n",
       "</div>"
      ],
      "text/plain": [
       "                     Name  Age Nationality  Overall  Potential  \\\n",
       "ID                                                               \n",
       "158023           L. Messi   31   Argentina       94         94   \n",
       "20801   Cristiano Ronaldo   33    Portugal       94         94   \n",
       "190871          Neymar Jr   26      Brazil       92         93   \n",
       "193080             De Gea   27       Spain       91         93   \n",
       "192985       K. De Bruyne   27     Belgium       91         92   \n",
       "\n",
       "                       Club    Value   Wage Preferred Foot  \\\n",
       "ID                                                           \n",
       "158023         FC Barcelona  €110.5M  €565K           Left   \n",
       "20801              Juventus     €77M  €405K          Right   \n",
       "190871  Paris Saint-Germain  €118.5M  €290K          Right   \n",
       "193080    Manchester United     €72M  €260K          Right   \n",
       "192985      Manchester City    €102M  €355K          Right   \n",
       "\n",
       "        International Reputation  ...  Composure  Marking StandingTackle  \\\n",
       "ID                                ...                                      \n",
       "158023                       5.0  ...       96.0     33.0           28.0   \n",
       "20801                        5.0  ...       95.0     28.0           31.0   \n",
       "190871                       5.0  ...       94.0     27.0           24.0   \n",
       "193080                       4.0  ...       68.0     15.0           21.0   \n",
       "192985                       4.0  ...       88.0     68.0           58.0   \n",
       "\n",
       "       SlidingTackle GKDiving  GKHandling GKKicking GKPositioning GKReflexes  \\\n",
       "ID                                                                             \n",
       "158023          26.0      6.0        11.0      15.0          14.0        8.0   \n",
       "20801           23.0      7.0        11.0      15.0          14.0       11.0   \n",
       "190871          33.0      9.0         9.0      15.0          15.0       11.0   \n",
       "193080          13.0     90.0        85.0      87.0          88.0       94.0   \n",
       "192985          51.0     15.0        13.0       5.0          10.0       13.0   \n",
       "\n",
       "       Release Clause  \n",
       "ID                     \n",
       "158023        €226.5M  \n",
       "20801         €127.1M  \n",
       "190871        €228.1M  \n",
       "193080        €138.6M  \n",
       "192985        €196.4M  \n",
       "\n",
       "[5 rows x 56 columns]"
      ]
     },
     "execution_count": 4,
     "metadata": {},
     "output_type": "execute_result"
    }
   ],
   "source": [
    "df.head()"
   ]
  },
  {
   "cell_type": "code",
   "execution_count": 5,
   "id": "5e1e30d2",
   "metadata": {},
   "outputs": [
    {
     "data": {
      "text/html": [
       "<div>\n",
       "<style scoped>\n",
       "    .dataframe tbody tr th:only-of-type {\n",
       "        vertical-align: middle;\n",
       "    }\n",
       "\n",
       "    .dataframe tbody tr th {\n",
       "        vertical-align: top;\n",
       "    }\n",
       "\n",
       "    .dataframe thead th {\n",
       "        text-align: right;\n",
       "    }\n",
       "</style>\n",
       "<table border=\"1\" class=\"dataframe\">\n",
       "  <thead>\n",
       "    <tr style=\"text-align: right;\">\n",
       "      <th></th>\n",
       "      <th>Name</th>\n",
       "      <th>Age</th>\n",
       "      <th>Nationality</th>\n",
       "      <th>Overall</th>\n",
       "      <th>Potential</th>\n",
       "      <th>Club</th>\n",
       "      <th>Value</th>\n",
       "      <th>Wage</th>\n",
       "      <th>Preferred Foot</th>\n",
       "      <th>International Reputation</th>\n",
       "      <th>...</th>\n",
       "      <th>Composure</th>\n",
       "      <th>Marking</th>\n",
       "      <th>StandingTackle</th>\n",
       "      <th>SlidingTackle</th>\n",
       "      <th>GKDiving</th>\n",
       "      <th>GKHandling</th>\n",
       "      <th>GKKicking</th>\n",
       "      <th>GKPositioning</th>\n",
       "      <th>GKReflexes</th>\n",
       "      <th>Release Clause</th>\n",
       "    </tr>\n",
       "    <tr>\n",
       "      <th>ID</th>\n",
       "      <th></th>\n",
       "      <th></th>\n",
       "      <th></th>\n",
       "      <th></th>\n",
       "      <th></th>\n",
       "      <th></th>\n",
       "      <th></th>\n",
       "      <th></th>\n",
       "      <th></th>\n",
       "      <th></th>\n",
       "      <th></th>\n",
       "      <th></th>\n",
       "      <th></th>\n",
       "      <th></th>\n",
       "      <th></th>\n",
       "      <th></th>\n",
       "      <th></th>\n",
       "      <th></th>\n",
       "      <th></th>\n",
       "      <th></th>\n",
       "      <th></th>\n",
       "    </tr>\n",
       "  </thead>\n",
       "  <tbody>\n",
       "    <tr>\n",
       "      <th>238813</th>\n",
       "      <td>J. Lundstram</td>\n",
       "      <td>19</td>\n",
       "      <td>England</td>\n",
       "      <td>47</td>\n",
       "      <td>65</td>\n",
       "      <td>Crewe Alexandra</td>\n",
       "      <td>€60K</td>\n",
       "      <td>€1K</td>\n",
       "      <td>Right</td>\n",
       "      <td>NaN</td>\n",
       "      <td>...</td>\n",
       "      <td>45.0</td>\n",
       "      <td>40.0</td>\n",
       "      <td>48.0</td>\n",
       "      <td>47.0</td>\n",
       "      <td>10.0</td>\n",
       "      <td>13.0</td>\n",
       "      <td>7.0</td>\n",
       "      <td>8.0</td>\n",
       "      <td>9.0</td>\n",
       "      <td>€143K</td>\n",
       "    </tr>\n",
       "    <tr>\n",
       "      <th>243165</th>\n",
       "      <td>N. Christoffersson</td>\n",
       "      <td>19</td>\n",
       "      <td>Sweden</td>\n",
       "      <td>47</td>\n",
       "      <td>63</td>\n",
       "      <td>Trelleborgs FF</td>\n",
       "      <td>€60K</td>\n",
       "      <td>€1K</td>\n",
       "      <td>Right</td>\n",
       "      <td>NaN</td>\n",
       "      <td>...</td>\n",
       "      <td>42.0</td>\n",
       "      <td>22.0</td>\n",
       "      <td>15.0</td>\n",
       "      <td>19.0</td>\n",
       "      <td>10.0</td>\n",
       "      <td>9.0</td>\n",
       "      <td>9.0</td>\n",
       "      <td>5.0</td>\n",
       "      <td>12.0</td>\n",
       "      <td>€113K</td>\n",
       "    </tr>\n",
       "    <tr>\n",
       "      <th>241638</th>\n",
       "      <td>B. Worman</td>\n",
       "      <td>16</td>\n",
       "      <td>England</td>\n",
       "      <td>47</td>\n",
       "      <td>67</td>\n",
       "      <td>Cambridge United</td>\n",
       "      <td>€60K</td>\n",
       "      <td>€1K</td>\n",
       "      <td>Right</td>\n",
       "      <td>NaN</td>\n",
       "      <td>...</td>\n",
       "      <td>41.0</td>\n",
       "      <td>32.0</td>\n",
       "      <td>13.0</td>\n",
       "      <td>11.0</td>\n",
       "      <td>6.0</td>\n",
       "      <td>5.0</td>\n",
       "      <td>10.0</td>\n",
       "      <td>6.0</td>\n",
       "      <td>13.0</td>\n",
       "      <td>€165K</td>\n",
       "    </tr>\n",
       "    <tr>\n",
       "      <th>246268</th>\n",
       "      <td>D. Walker-Rice</td>\n",
       "      <td>17</td>\n",
       "      <td>England</td>\n",
       "      <td>47</td>\n",
       "      <td>66</td>\n",
       "      <td>Tranmere Rovers</td>\n",
       "      <td>€60K</td>\n",
       "      <td>€1K</td>\n",
       "      <td>Right</td>\n",
       "      <td>NaN</td>\n",
       "      <td>...</td>\n",
       "      <td>46.0</td>\n",
       "      <td>20.0</td>\n",
       "      <td>25.0</td>\n",
       "      <td>27.0</td>\n",
       "      <td>14.0</td>\n",
       "      <td>6.0</td>\n",
       "      <td>14.0</td>\n",
       "      <td>8.0</td>\n",
       "      <td>9.0</td>\n",
       "      <td>€143K</td>\n",
       "    </tr>\n",
       "    <tr>\n",
       "      <th>246269</th>\n",
       "      <td>G. Nugent</td>\n",
       "      <td>16</td>\n",
       "      <td>England</td>\n",
       "      <td>46</td>\n",
       "      <td>66</td>\n",
       "      <td>Tranmere Rovers</td>\n",
       "      <td>€60K</td>\n",
       "      <td>€1K</td>\n",
       "      <td>Right</td>\n",
       "      <td>NaN</td>\n",
       "      <td>...</td>\n",
       "      <td>43.0</td>\n",
       "      <td>40.0</td>\n",
       "      <td>43.0</td>\n",
       "      <td>50.0</td>\n",
       "      <td>10.0</td>\n",
       "      <td>15.0</td>\n",
       "      <td>9.0</td>\n",
       "      <td>12.0</td>\n",
       "      <td>9.0</td>\n",
       "      <td>€165K</td>\n",
       "    </tr>\n",
       "  </tbody>\n",
       "</table>\n",
       "<p>5 rows × 56 columns</p>\n",
       "</div>"
      ],
      "text/plain": [
       "                      Name  Age Nationality  Overall  Potential  \\\n",
       "ID                                                                \n",
       "238813        J. Lundstram   19     England       47         65   \n",
       "243165  N. Christoffersson   19      Sweden       47         63   \n",
       "241638           B. Worman   16     England       47         67   \n",
       "246268      D. Walker-Rice   17     England       47         66   \n",
       "246269           G. Nugent   16     England       46         66   \n",
       "\n",
       "                    Club Value Wage Preferred Foot  International Reputation  \\\n",
       "ID                                                                             \n",
       "238813   Crewe Alexandra  €60K  €1K          Right                       NaN   \n",
       "243165    Trelleborgs FF  €60K  €1K          Right                       NaN   \n",
       "241638  Cambridge United  €60K  €1K          Right                       NaN   \n",
       "246268   Tranmere Rovers  €60K  €1K          Right                       NaN   \n",
       "246269   Tranmere Rovers  €60K  €1K          Right                       NaN   \n",
       "\n",
       "        ...  Composure  Marking StandingTackle SlidingTackle GKDiving  \\\n",
       "ID      ...                                                             \n",
       "238813  ...       45.0     40.0           48.0          47.0     10.0   \n",
       "243165  ...       42.0     22.0           15.0          19.0     10.0   \n",
       "241638  ...       41.0     32.0           13.0          11.0      6.0   \n",
       "246268  ...       46.0     20.0           25.0          27.0     14.0   \n",
       "246269  ...       43.0     40.0           43.0          50.0     10.0   \n",
       "\n",
       "        GKHandling GKKicking GKPositioning GKReflexes Release Clause  \n",
       "ID                                                                    \n",
       "238813        13.0       7.0           8.0        9.0          €143K  \n",
       "243165         9.0       9.0           5.0       12.0          €113K  \n",
       "241638         5.0      10.0           6.0       13.0          €165K  \n",
       "246268         6.0      14.0           8.0        9.0          €143K  \n",
       "246269        15.0       9.0          12.0        9.0          €165K  \n",
       "\n",
       "[5 rows x 56 columns]"
      ]
     },
     "execution_count": 5,
     "metadata": {},
     "output_type": "execute_result"
    }
   ],
   "source": [
    "df.tail()"
   ]
  },
  {
   "cell_type": "code",
   "execution_count": 6,
   "id": "cca01cf5",
   "metadata": {
    "execution": {
     "iopub.execute_input": "2022-10-21T19:45:30.650009Z",
     "iopub.status.busy": "2022-10-21T19:45:30.649084Z",
     "iopub.status.idle": "2022-10-21T19:45:30.679357Z",
     "shell.execute_reply": "2022-10-21T19:45:30.678301Z"
    },
    "id": "Yjgsf0vohcvG",
    "outputId": "f05dcce0-0cd7-4414-80c1-d16a49dc313b",
    "papermill": {
     "duration": 0.056871,
     "end_time": "2022-10-21T19:45:30.682429",
     "exception": false,
     "start_time": "2022-10-21T19:45:30.625558",
     "status": "completed"
    },
    "tags": []
   },
   "outputs": [
    {
     "name": "stdout",
     "output_type": "stream",
     "text": [
      "<class 'pandas.core.frame.DataFrame'>\n",
      "Int64Index: 18207 entries, 158023 to 246269\n",
      "Data columns (total 56 columns):\n",
      " #   Column                    Non-Null Count  Dtype  \n",
      "---  ------                    --------------  -----  \n",
      " 0   Name                      18207 non-null  object \n",
      " 1   Age                       18207 non-null  int64  \n",
      " 2   Nationality               18207 non-null  object \n",
      " 3   Overall                   18207 non-null  int64  \n",
      " 4   Potential                 18207 non-null  int64  \n",
      " 5   Club                      17966 non-null  object \n",
      " 6   Value                     18207 non-null  object \n",
      " 7   Wage                      18207 non-null  object \n",
      " 8   Preferred Foot            18159 non-null  object \n",
      " 9   International Reputation  1627 non-null   float64\n",
      " 10  Weak Foot                 18001 non-null  float64\n",
      " 11  Skill Moves               16133 non-null  float64\n",
      " 12  Work Rate                 18159 non-null  object \n",
      " 13  Body Type                 18159 non-null  object \n",
      " 14  Position                  18147 non-null  object \n",
      " 15  Jersey Number             17581 non-null  float64\n",
      " 16  Joined                    16654 non-null  object \n",
      " 17  Loaned From               1264 non-null   object \n",
      " 18  Contract Valid Until      17918 non-null  object \n",
      " 19  Height                    18159 non-null  object \n",
      " 20  Weight                    18159 non-null  object \n",
      " 21  Crossing                  18159 non-null  float64\n",
      " 22  Finishing                 18159 non-null  float64\n",
      " 23  HeadingAccuracy           18159 non-null  float64\n",
      " 24  ShortPassing              18159 non-null  float64\n",
      " 25  Volleys                   18159 non-null  float64\n",
      " 26  Dribbling                 18159 non-null  float64\n",
      " 27  Curve                     18159 non-null  float64\n",
      " 28  FKAccuracy                18159 non-null  float64\n",
      " 29  LongPassing               18159 non-null  float64\n",
      " 30  BallControl               18159 non-null  float64\n",
      " 31  Acceleration              18159 non-null  float64\n",
      " 32  SprintSpeed               18159 non-null  float64\n",
      " 33  Agility                   18159 non-null  float64\n",
      " 34  Reactions                 18159 non-null  float64\n",
      " 35  Balance                   18159 non-null  float64\n",
      " 36  ShotPower                 18159 non-null  float64\n",
      " 37  Jumping                   18159 non-null  float64\n",
      " 38  Stamina                   18159 non-null  float64\n",
      " 39  Strength                  18159 non-null  float64\n",
      " 40  LongShots                 18159 non-null  float64\n",
      " 41  Aggression                18159 non-null  float64\n",
      " 42  Interceptions             18159 non-null  float64\n",
      " 43  Positioning               18159 non-null  float64\n",
      " 44  Vision                    18159 non-null  float64\n",
      " 45  Penalties                 18159 non-null  float64\n",
      " 46  Composure                 18159 non-null  float64\n",
      " 47  Marking                   18159 non-null  float64\n",
      " 48  StandingTackle            18159 non-null  float64\n",
      " 49  SlidingTackle             18159 non-null  float64\n",
      " 50  GKDiving                  18132 non-null  float64\n",
      " 51  GKHandling                18132 non-null  float64\n",
      " 52  GKKicking                 18131 non-null  float64\n",
      " 53  GKPositioning             18131 non-null  float64\n",
      " 54  GKReflexes                18132 non-null  float64\n",
      " 55  Release Clause            16643 non-null  object \n",
      "dtypes: float64(38), int64(3), object(15)\n",
      "memory usage: 7.9+ MB\n"
     ]
    }
   ],
   "source": [
    "df.info()"
   ]
  },
  {
   "cell_type": "code",
   "execution_count": 7,
   "id": "1cc3b193",
   "metadata": {
    "execution": {
     "iopub.execute_input": "2022-10-21T19:45:30.730050Z",
     "iopub.status.busy": "2022-10-21T19:45:30.729676Z",
     "iopub.status.idle": "2022-10-21T19:45:30.879644Z",
     "shell.execute_reply": "2022-10-21T19:45:30.878489Z"
    },
    "id": "8eb32Pgy-JXN",
    "outputId": "7d2b78a1-4567-43a9-bec5-d4eec927fe0d",
    "papermill": {
     "duration": 0.176553,
     "end_time": "2022-10-21T19:45:30.882296",
     "exception": false,
     "start_time": "2022-10-21T19:45:30.705743",
     "status": "completed"
    },
    "tags": []
   },
   "outputs": [
    {
     "data": {
      "text/html": [
       "<div>\n",
       "<style scoped>\n",
       "    .dataframe tbody tr th:only-of-type {\n",
       "        vertical-align: middle;\n",
       "    }\n",
       "\n",
       "    .dataframe tbody tr th {\n",
       "        vertical-align: top;\n",
       "    }\n",
       "\n",
       "    .dataframe thead th {\n",
       "        text-align: right;\n",
       "    }\n",
       "</style>\n",
       "<table border=\"1\" class=\"dataframe\">\n",
       "  <thead>\n",
       "    <tr style=\"text-align: right;\">\n",
       "      <th></th>\n",
       "      <th>Age</th>\n",
       "      <th>Overall</th>\n",
       "      <th>Potential</th>\n",
       "      <th>International Reputation</th>\n",
       "      <th>Weak Foot</th>\n",
       "      <th>Skill Moves</th>\n",
       "      <th>Jersey Number</th>\n",
       "      <th>Crossing</th>\n",
       "      <th>Finishing</th>\n",
       "      <th>HeadingAccuracy</th>\n",
       "      <th>...</th>\n",
       "      <th>Penalties</th>\n",
       "      <th>Composure</th>\n",
       "      <th>Marking</th>\n",
       "      <th>StandingTackle</th>\n",
       "      <th>SlidingTackle</th>\n",
       "      <th>GKDiving</th>\n",
       "      <th>GKHandling</th>\n",
       "      <th>GKKicking</th>\n",
       "      <th>GKPositioning</th>\n",
       "      <th>GKReflexes</th>\n",
       "    </tr>\n",
       "  </thead>\n",
       "  <tbody>\n",
       "    <tr>\n",
       "      <th>count</th>\n",
       "      <td>18207.000000</td>\n",
       "      <td>18207.000000</td>\n",
       "      <td>18207.000000</td>\n",
       "      <td>1627.000000</td>\n",
       "      <td>18001.000000</td>\n",
       "      <td>16133.000000</td>\n",
       "      <td>17581.000000</td>\n",
       "      <td>18159.000000</td>\n",
       "      <td>18159.000000</td>\n",
       "      <td>18159.000000</td>\n",
       "      <td>...</td>\n",
       "      <td>18159.000000</td>\n",
       "      <td>18159.000000</td>\n",
       "      <td>18159.000000</td>\n",
       "      <td>18159.000000</td>\n",
       "      <td>18159.000000</td>\n",
       "      <td>18132.000000</td>\n",
       "      <td>18132.000000</td>\n",
       "      <td>18131.000000</td>\n",
       "      <td>18131.000000</td>\n",
       "      <td>18132.000000</td>\n",
       "    </tr>\n",
       "    <tr>\n",
       "      <th>mean</th>\n",
       "      <td>25.122206</td>\n",
       "      <td>66.238699</td>\n",
       "      <td>71.307299</td>\n",
       "      <td>2.263675</td>\n",
       "      <td>2.964391</td>\n",
       "      <td>2.532263</td>\n",
       "      <td>20.143166</td>\n",
       "      <td>49.734181</td>\n",
       "      <td>45.550911</td>\n",
       "      <td>52.298144</td>\n",
       "      <td>...</td>\n",
       "      <td>48.548598</td>\n",
       "      <td>58.648274</td>\n",
       "      <td>47.281623</td>\n",
       "      <td>47.697836</td>\n",
       "      <td>45.661435</td>\n",
       "      <td>16.639477</td>\n",
       "      <td>16.414516</td>\n",
       "      <td>16.255584</td>\n",
       "      <td>16.412663</td>\n",
       "      <td>16.734282</td>\n",
       "    </tr>\n",
       "    <tr>\n",
       "      <th>std</th>\n",
       "      <td>4.669943</td>\n",
       "      <td>6.908930</td>\n",
       "      <td>6.136496</td>\n",
       "      <td>0.528338</td>\n",
       "      <td>0.637538</td>\n",
       "      <td>0.617762</td>\n",
       "      <td>15.845792</td>\n",
       "      <td>18.364524</td>\n",
       "      <td>19.525820</td>\n",
       "      <td>17.379909</td>\n",
       "      <td>...</td>\n",
       "      <td>15.704053</td>\n",
       "      <td>11.436133</td>\n",
       "      <td>19.904397</td>\n",
       "      <td>21.664004</td>\n",
       "      <td>21.289135</td>\n",
       "      <td>17.698248</td>\n",
       "      <td>16.909040</td>\n",
       "      <td>16.504735</td>\n",
       "      <td>17.037071</td>\n",
       "      <td>17.958236</td>\n",
       "    </tr>\n",
       "    <tr>\n",
       "      <th>min</th>\n",
       "      <td>16.000000</td>\n",
       "      <td>46.000000</td>\n",
       "      <td>48.000000</td>\n",
       "      <td>2.000000</td>\n",
       "      <td>2.000000</td>\n",
       "      <td>2.000000</td>\n",
       "      <td>2.000000</td>\n",
       "      <td>5.000000</td>\n",
       "      <td>2.000000</td>\n",
       "      <td>4.000000</td>\n",
       "      <td>...</td>\n",
       "      <td>5.000000</td>\n",
       "      <td>3.000000</td>\n",
       "      <td>3.000000</td>\n",
       "      <td>2.000000</td>\n",
       "      <td>3.000000</td>\n",
       "      <td>2.000000</td>\n",
       "      <td>2.000000</td>\n",
       "      <td>2.000000</td>\n",
       "      <td>2.000000</td>\n",
       "      <td>2.000000</td>\n",
       "    </tr>\n",
       "    <tr>\n",
       "      <th>25%</th>\n",
       "      <td>21.000000</td>\n",
       "      <td>62.000000</td>\n",
       "      <td>67.000000</td>\n",
       "      <td>2.000000</td>\n",
       "      <td>3.000000</td>\n",
       "      <td>2.000000</td>\n",
       "      <td>9.000000</td>\n",
       "      <td>38.000000</td>\n",
       "      <td>30.000000</td>\n",
       "      <td>44.000000</td>\n",
       "      <td>...</td>\n",
       "      <td>39.000000</td>\n",
       "      <td>51.000000</td>\n",
       "      <td>30.000000</td>\n",
       "      <td>27.000000</td>\n",
       "      <td>24.000000</td>\n",
       "      <td>8.000000</td>\n",
       "      <td>8.000000</td>\n",
       "      <td>8.000000</td>\n",
       "      <td>8.000000</td>\n",
       "      <td>8.000000</td>\n",
       "    </tr>\n",
       "    <tr>\n",
       "      <th>50%</th>\n",
       "      <td>25.000000</td>\n",
       "      <td>66.000000</td>\n",
       "      <td>71.000000</td>\n",
       "      <td>2.000000</td>\n",
       "      <td>3.000000</td>\n",
       "      <td>2.000000</td>\n",
       "      <td>18.000000</td>\n",
       "      <td>54.000000</td>\n",
       "      <td>49.000000</td>\n",
       "      <td>56.000000</td>\n",
       "      <td>...</td>\n",
       "      <td>49.000000</td>\n",
       "      <td>60.000000</td>\n",
       "      <td>53.000000</td>\n",
       "      <td>55.000000</td>\n",
       "      <td>52.000000</td>\n",
       "      <td>11.000000</td>\n",
       "      <td>11.000000</td>\n",
       "      <td>11.000000</td>\n",
       "      <td>11.000000</td>\n",
       "      <td>11.000000</td>\n",
       "    </tr>\n",
       "    <tr>\n",
       "      <th>75%</th>\n",
       "      <td>28.000000</td>\n",
       "      <td>71.000000</td>\n",
       "      <td>75.000000</td>\n",
       "      <td>2.000000</td>\n",
       "      <td>3.000000</td>\n",
       "      <td>3.000000</td>\n",
       "      <td>26.000000</td>\n",
       "      <td>64.000000</td>\n",
       "      <td>62.000000</td>\n",
       "      <td>64.000000</td>\n",
       "      <td>...</td>\n",
       "      <td>60.000000</td>\n",
       "      <td>67.000000</td>\n",
       "      <td>64.000000</td>\n",
       "      <td>66.000000</td>\n",
       "      <td>64.000000</td>\n",
       "      <td>14.000000</td>\n",
       "      <td>14.000000</td>\n",
       "      <td>14.000000</td>\n",
       "      <td>14.000000</td>\n",
       "      <td>14.000000</td>\n",
       "    </tr>\n",
       "    <tr>\n",
       "      <th>max</th>\n",
       "      <td>45.000000</td>\n",
       "      <td>94.000000</td>\n",
       "      <td>95.000000</td>\n",
       "      <td>5.000000</td>\n",
       "      <td>5.000000</td>\n",
       "      <td>5.000000</td>\n",
       "      <td>99.000000</td>\n",
       "      <td>93.000000</td>\n",
       "      <td>95.000000</td>\n",
       "      <td>94.000000</td>\n",
       "      <td>...</td>\n",
       "      <td>92.000000</td>\n",
       "      <td>96.000000</td>\n",
       "      <td>94.000000</td>\n",
       "      <td>93.000000</td>\n",
       "      <td>91.000000</td>\n",
       "      <td>90.000000</td>\n",
       "      <td>92.000000</td>\n",
       "      <td>91.000000</td>\n",
       "      <td>90.000000</td>\n",
       "      <td>94.000000</td>\n",
       "    </tr>\n",
       "  </tbody>\n",
       "</table>\n",
       "<p>8 rows × 41 columns</p>\n",
       "</div>"
      ],
      "text/plain": [
       "                Age       Overall     Potential  International Reputation  \\\n",
       "count  18207.000000  18207.000000  18207.000000               1627.000000   \n",
       "mean      25.122206     66.238699     71.307299                  2.263675   \n",
       "std        4.669943      6.908930      6.136496                  0.528338   \n",
       "min       16.000000     46.000000     48.000000                  2.000000   \n",
       "25%       21.000000     62.000000     67.000000                  2.000000   \n",
       "50%       25.000000     66.000000     71.000000                  2.000000   \n",
       "75%       28.000000     71.000000     75.000000                  2.000000   \n",
       "max       45.000000     94.000000     95.000000                  5.000000   \n",
       "\n",
       "          Weak Foot   Skill Moves  Jersey Number      Crossing     Finishing  \\\n",
       "count  18001.000000  16133.000000   17581.000000  18159.000000  18159.000000   \n",
       "mean       2.964391      2.532263      20.143166     49.734181     45.550911   \n",
       "std        0.637538      0.617762      15.845792     18.364524     19.525820   \n",
       "min        2.000000      2.000000       2.000000      5.000000      2.000000   \n",
       "25%        3.000000      2.000000       9.000000     38.000000     30.000000   \n",
       "50%        3.000000      2.000000      18.000000     54.000000     49.000000   \n",
       "75%        3.000000      3.000000      26.000000     64.000000     62.000000   \n",
       "max        5.000000      5.000000      99.000000     93.000000     95.000000   \n",
       "\n",
       "       HeadingAccuracy  ...     Penalties     Composure       Marking  \\\n",
       "count     18159.000000  ...  18159.000000  18159.000000  18159.000000   \n",
       "mean         52.298144  ...     48.548598     58.648274     47.281623   \n",
       "std          17.379909  ...     15.704053     11.436133     19.904397   \n",
       "min           4.000000  ...      5.000000      3.000000      3.000000   \n",
       "25%          44.000000  ...     39.000000     51.000000     30.000000   \n",
       "50%          56.000000  ...     49.000000     60.000000     53.000000   \n",
       "75%          64.000000  ...     60.000000     67.000000     64.000000   \n",
       "max          94.000000  ...     92.000000     96.000000     94.000000   \n",
       "\n",
       "       StandingTackle  SlidingTackle      GKDiving    GKHandling  \\\n",
       "count    18159.000000   18159.000000  18132.000000  18132.000000   \n",
       "mean        47.697836      45.661435     16.639477     16.414516   \n",
       "std         21.664004      21.289135     17.698248     16.909040   \n",
       "min          2.000000       3.000000      2.000000      2.000000   \n",
       "25%         27.000000      24.000000      8.000000      8.000000   \n",
       "50%         55.000000      52.000000     11.000000     11.000000   \n",
       "75%         66.000000      64.000000     14.000000     14.000000   \n",
       "max         93.000000      91.000000     90.000000     92.000000   \n",
       "\n",
       "          GKKicking  GKPositioning    GKReflexes  \n",
       "count  18131.000000   18131.000000  18132.000000  \n",
       "mean      16.255584      16.412663     16.734282  \n",
       "std       16.504735      17.037071     17.958236  \n",
       "min        2.000000       2.000000      2.000000  \n",
       "25%        8.000000       8.000000      8.000000  \n",
       "50%       11.000000      11.000000     11.000000  \n",
       "75%       14.000000      14.000000     14.000000  \n",
       "max       91.000000      90.000000     94.000000  \n",
       "\n",
       "[8 rows x 41 columns]"
      ]
     },
     "execution_count": 7,
     "metadata": {},
     "output_type": "execute_result"
    }
   ],
   "source": [
    "df.describe()"
   ]
  },
  {
   "cell_type": "code",
   "execution_count": 8,
   "id": "a27c8618",
   "metadata": {},
   "outputs": [
    {
     "data": {
      "text/plain": [
       "Name                            0\n",
       "Age                             0\n",
       "Nationality                     0\n",
       "Overall                         0\n",
       "Potential                       0\n",
       "Club                          241\n",
       "Value                           0\n",
       "Wage                            0\n",
       "Preferred Foot                 48\n",
       "International Reputation    16580\n",
       "Weak Foot                     206\n",
       "Skill Moves                  2074\n",
       "Work Rate                      48\n",
       "Body Type                      48\n",
       "Position                       60\n",
       "Jersey Number                 626\n",
       "Joined                       1553\n",
       "Loaned From                 16943\n",
       "Contract Valid Until          289\n",
       "Height                         48\n",
       "Weight                         48\n",
       "Crossing                       48\n",
       "Finishing                      48\n",
       "HeadingAccuracy                48\n",
       "ShortPassing                   48\n",
       "Volleys                        48\n",
       "Dribbling                      48\n",
       "Curve                          48\n",
       "FKAccuracy                     48\n",
       "LongPassing                    48\n",
       "BallControl                    48\n",
       "Acceleration                   48\n",
       "SprintSpeed                    48\n",
       "Agility                        48\n",
       "Reactions                      48\n",
       "Balance                        48\n",
       "ShotPower                      48\n",
       "Jumping                        48\n",
       "Stamina                        48\n",
       "Strength                       48\n",
       "LongShots                      48\n",
       "Aggression                     48\n",
       "Interceptions                  48\n",
       "Positioning                    48\n",
       "Vision                         48\n",
       "Penalties                      48\n",
       "Composure                      48\n",
       "Marking                        48\n",
       "StandingTackle                 48\n",
       "SlidingTackle                  48\n",
       "GKDiving                       75\n",
       "GKHandling                     75\n",
       "GKKicking                      76\n",
       "GKPositioning                  76\n",
       "GKReflexes                     75\n",
       "Release Clause               1564\n",
       "dtype: int64"
      ]
     },
     "execution_count": 8,
     "metadata": {},
     "output_type": "execute_result"
    }
   ],
   "source": [
    "df.isnull().sum()"
   ]
  },
  {
   "cell_type": "code",
   "execution_count": 9,
   "id": "1f268dcf",
   "metadata": {},
   "outputs": [
    {
     "data": {
      "text/plain": [
       "0"
      ]
     },
     "execution_count": 9,
     "metadata": {},
     "output_type": "execute_result"
    }
   ],
   "source": [
    "df.duplicated().sum()"
   ]
  },
  {
   "cell_type": "markdown",
   "id": "d87e3d6c",
   "metadata": {},
   "source": [
    "### Cleaning the dataset   <a name = \"Data_cleaning\"></a>  "
   ]
  },
  {
   "cell_type": "markdown",
   "id": "8bb996ba",
   "metadata": {
    "id": "Qt5sJtQgocod",
    "papermill": {
     "duration": 0.02267,
     "end_time": "2022-10-21T19:45:30.928019",
     "exception": false,
     "start_time": "2022-10-21T19:45:30.905349",
     "status": "completed"
    },
    "tags": []
   },
   "source": [
    "#### Drop unnecessary columns"
   ]
  },
  {
   "cell_type": "code",
   "execution_count": 10,
   "id": "e914e8f0",
   "metadata": {
    "execution": {
     "iopub.execute_input": "2022-10-21T19:45:30.976016Z",
     "iopub.status.busy": "2022-10-21T19:45:30.975630Z",
     "iopub.status.idle": "2022-10-21T19:45:30.988034Z",
     "shell.execute_reply": "2022-10-21T19:45:30.986977Z"
    },
    "id": "Ip3Ymxo0zj6H",
    "papermill": {
     "duration": 0.039565,
     "end_time": "2022-10-21T19:45:30.990618",
     "exception": false,
     "start_time": "2022-10-21T19:45:30.951053",
     "status": "completed"
    },
    "tags": []
   },
   "outputs": [],
   "source": [
    "df.drop(columns=['International Reputation','Jersey Number','Loaned From','Weight'],axis=1,inplace=True)"
   ]
  },
  {
   "cell_type": "markdown",
   "id": "1702f2fb",
   "metadata": {
    "id": "WVZESoKGvWEC",
    "papermill": {
     "duration": 0.022694,
     "end_time": "2022-10-21T19:45:31.156119",
     "exception": false,
     "start_time": "2022-10-21T19:45:31.133425",
     "status": "completed"
    },
    "tags": []
   },
   "source": [
    "#### fill nan values in float colunms with median 36 column in one code line "
   ]
  },
  {
   "cell_type": "code",
   "execution_count": 11,
   "id": "867f603f",
   "metadata": {
    "execution": {
     "iopub.execute_input": "2022-10-21T19:45:31.204600Z",
     "iopub.status.busy": "2022-10-21T19:45:31.204156Z",
     "iopub.status.idle": "2022-10-21T19:45:31.252874Z",
     "shell.execute_reply": "2022-10-21T19:45:31.251730Z"
    },
    "id": "GFw5jcnTcZ74",
    "outputId": "a9fcb507-694b-4eb4-9e0e-9528f192dc1d",
    "papermill": {
     "duration": 0.076571,
     "end_time": "2022-10-21T19:45:31.255720",
     "exception": false,
     "start_time": "2022-10-21T19:45:31.179149",
     "status": "completed"
    },
    "tags": []
   },
   "outputs": [
    {
     "name": "stderr",
     "output_type": "stream",
     "text": [
      "/tmp/ipykernel_15231/1048787520.py:1: FutureWarning: Dropping of nuisance columns in DataFrame reductions (with 'numeric_only=None') is deprecated; in a future version this will raise TypeError.  Select only valid columns before calling the reduction.\n",
      "  df.fillna(df.median(),inplace=True)\n"
     ]
    }
   ],
   "source": [
    "df.fillna(df.median(),inplace=True)"
   ]
  },
  {
   "cell_type": "code",
   "execution_count": 12,
   "id": "d25531d8",
   "metadata": {
    "execution": {
     "iopub.execute_input": "2022-10-21T19:45:31.304243Z",
     "iopub.status.busy": "2022-10-21T19:45:31.303839Z",
     "iopub.status.idle": "2022-10-21T19:45:31.336105Z",
     "shell.execute_reply": "2022-10-21T19:45:31.333886Z"
    },
    "id": "EbWE7RI-vkDj",
    "outputId": "fed60e5d-2928-4bb0-c5fe-e44238f7fa21",
    "papermill": {
     "duration": 0.060021,
     "end_time": "2022-10-21T19:45:31.339260",
     "exception": false,
     "start_time": "2022-10-21T19:45:31.279239",
     "status": "completed"
    },
    "tags": []
   },
   "outputs": [
    {
     "name": "stdout",
     "output_type": "stream",
     "text": [
      "<class 'pandas.core.frame.DataFrame'>\n",
      "Int64Index: 18207 entries, 158023 to 246269\n",
      "Data columns (total 52 columns):\n",
      " #   Column                Non-Null Count  Dtype  \n",
      "---  ------                --------------  -----  \n",
      " 0   Name                  18207 non-null  object \n",
      " 1   Age                   18207 non-null  int64  \n",
      " 2   Nationality           18207 non-null  object \n",
      " 3   Overall               18207 non-null  int64  \n",
      " 4   Potential             18207 non-null  int64  \n",
      " 5   Club                  17966 non-null  object \n",
      " 6   Value                 18207 non-null  object \n",
      " 7   Wage                  18207 non-null  object \n",
      " 8   Preferred Foot        18159 non-null  object \n",
      " 9   Weak Foot             18207 non-null  float64\n",
      " 10  Skill Moves           18207 non-null  float64\n",
      " 11  Work Rate             18159 non-null  object \n",
      " 12  Body Type             18159 non-null  object \n",
      " 13  Position              18147 non-null  object \n",
      " 14  Joined                16654 non-null  object \n",
      " 15  Contract Valid Until  17918 non-null  object \n",
      " 16  Height                18159 non-null  object \n",
      " 17  Crossing              18207 non-null  float64\n",
      " 18  Finishing             18207 non-null  float64\n",
      " 19  HeadingAccuracy       18207 non-null  float64\n",
      " 20  ShortPassing          18207 non-null  float64\n",
      " 21  Volleys               18207 non-null  float64\n",
      " 22  Dribbling             18207 non-null  float64\n",
      " 23  Curve                 18207 non-null  float64\n",
      " 24  FKAccuracy            18207 non-null  float64\n",
      " 25  LongPassing           18207 non-null  float64\n",
      " 26  BallControl           18207 non-null  float64\n",
      " 27  Acceleration          18207 non-null  float64\n",
      " 28  SprintSpeed           18207 non-null  float64\n",
      " 29  Agility               18207 non-null  float64\n",
      " 30  Reactions             18207 non-null  float64\n",
      " 31  Balance               18207 non-null  float64\n",
      " 32  ShotPower             18207 non-null  float64\n",
      " 33  Jumping               18207 non-null  float64\n",
      " 34  Stamina               18207 non-null  float64\n",
      " 35  Strength              18207 non-null  float64\n",
      " 36  LongShots             18207 non-null  float64\n",
      " 37  Aggression            18207 non-null  float64\n",
      " 38  Interceptions         18207 non-null  float64\n",
      " 39  Positioning           18207 non-null  float64\n",
      " 40  Vision                18207 non-null  float64\n",
      " 41  Penalties             18207 non-null  float64\n",
      " 42  Composure             18207 non-null  float64\n",
      " 43  Marking               18207 non-null  float64\n",
      " 44  StandingTackle        18207 non-null  float64\n",
      " 45  SlidingTackle         18207 non-null  float64\n",
      " 46  GKDiving              18207 non-null  float64\n",
      " 47  GKHandling            18207 non-null  float64\n",
      " 48  GKKicking             18207 non-null  float64\n",
      " 49  GKPositioning         18207 non-null  float64\n",
      " 50  GKReflexes            18207 non-null  float64\n",
      " 51  Release Clause        16643 non-null  object \n",
      "dtypes: float64(36), int64(3), object(13)\n",
      "memory usage: 7.4+ MB\n"
     ]
    }
   ],
   "source": [
    "df.info()"
   ]
  },
  {
   "cell_type": "markdown",
   "id": "b2cfe422",
   "metadata": {
    "id": "jAJ-VSDOuyzi",
    "papermill": {
     "duration": 0.029445,
     "end_time": "2022-10-21T19:45:31.397703",
     "exception": false,
     "start_time": "2022-10-21T19:45:31.368258",
     "status": "completed"
    },
    "tags": []
   },
   "source": [
    "#### Handling the object columns by fillna values with mode 9 columns"
   ]
  },
  {
   "cell_type": "code",
   "execution_count": 13,
   "id": "8b3de077",
   "metadata": {
    "execution": {
     "iopub.execute_input": "2022-10-21T19:45:31.458623Z",
     "iopub.status.busy": "2022-10-21T19:45:31.458198Z",
     "iopub.status.idle": "2022-10-21T19:45:31.530530Z",
     "shell.execute_reply": "2022-10-21T19:45:31.529362Z"
    },
    "id": "s8JiQmu9u-sn",
    "papermill": {
     "duration": 0.100222,
     "end_time": "2022-10-21T19:45:31.533308",
     "exception": false,
     "start_time": "2022-10-21T19:45:31.433086",
     "status": "completed"
    },
    "tags": []
   },
   "outputs": [],
   "source": [
    "for col in df.columns:\n",
    "    df[col].fillna(df[col].mode()[0],inplace=True)"
   ]
  },
  {
   "cell_type": "code",
   "execution_count": 14,
   "id": "05681589",
   "metadata": {
    "execution": {
     "iopub.execute_input": "2022-10-21T19:45:31.582382Z",
     "iopub.status.busy": "2022-10-21T19:45:31.581922Z",
     "iopub.status.idle": "2022-10-21T19:45:31.603909Z",
     "shell.execute_reply": "2022-10-21T19:45:31.603040Z"
    },
    "id": "6why_KTcv4pw",
    "outputId": "3490af65-587a-4fc1-eb94-a47a01d37429",
    "papermill": {
     "duration": 0.048964,
     "end_time": "2022-10-21T19:45:31.606153",
     "exception": false,
     "start_time": "2022-10-21T19:45:31.557189",
     "status": "completed"
    },
    "tags": []
   },
   "outputs": [
    {
     "data": {
      "text/plain": [
       "Name                    0\n",
       "Age                     0\n",
       "Nationality             0\n",
       "Overall                 0\n",
       "Potential               0\n",
       "Club                    0\n",
       "Value                   0\n",
       "Wage                    0\n",
       "Preferred Foot          0\n",
       "Weak Foot               0\n",
       "Skill Moves             0\n",
       "Work Rate               0\n",
       "Body Type               0\n",
       "Position                0\n",
       "Joined                  0\n",
       "Contract Valid Until    0\n",
       "Height                  0\n",
       "Crossing                0\n",
       "Finishing               0\n",
       "HeadingAccuracy         0\n",
       "ShortPassing            0\n",
       "Volleys                 0\n",
       "Dribbling               0\n",
       "Curve                   0\n",
       "FKAccuracy              0\n",
       "LongPassing             0\n",
       "BallControl             0\n",
       "Acceleration            0\n",
       "SprintSpeed             0\n",
       "Agility                 0\n",
       "Reactions               0\n",
       "Balance                 0\n",
       "ShotPower               0\n",
       "Jumping                 0\n",
       "Stamina                 0\n",
       "Strength                0\n",
       "LongShots               0\n",
       "Aggression              0\n",
       "Interceptions           0\n",
       "Positioning             0\n",
       "Vision                  0\n",
       "Penalties               0\n",
       "Composure               0\n",
       "Marking                 0\n",
       "StandingTackle          0\n",
       "SlidingTackle           0\n",
       "GKDiving                0\n",
       "GKHandling              0\n",
       "GKKicking               0\n",
       "GKPositioning           0\n",
       "GKReflexes              0\n",
       "Release Clause          0\n",
       "dtype: int64"
      ]
     },
     "execution_count": 14,
     "metadata": {},
     "output_type": "execute_result"
    }
   ],
   "source": [
    "df.isna().sum()"
   ]
  },
  {
   "cell_type": "code",
   "execution_count": 15,
   "id": "358e07fc",
   "metadata": {
    "execution": {
     "iopub.execute_input": "2022-10-21T19:45:31.655535Z",
     "iopub.status.busy": "2022-10-21T19:45:31.655131Z",
     "iopub.status.idle": "2022-10-21T19:45:31.680699Z",
     "shell.execute_reply": "2022-10-21T19:45:31.679494Z"
    },
    "id": "FUYygUUAclpe",
    "outputId": "6d40cca7-8402-4487-bdaf-f04948b93397",
    "papermill": {
     "duration": 0.053384,
     "end_time": "2022-10-21T19:45:31.683629",
     "exception": false,
     "start_time": "2022-10-21T19:45:31.630245",
     "status": "completed"
    },
    "tags": []
   },
   "outputs": [
    {
     "name": "stdout",
     "output_type": "stream",
     "text": [
      "<class 'pandas.core.frame.DataFrame'>\n",
      "Int64Index: 18207 entries, 158023 to 246269\n",
      "Data columns (total 52 columns):\n",
      " #   Column                Non-Null Count  Dtype  \n",
      "---  ------                --------------  -----  \n",
      " 0   Name                  18207 non-null  object \n",
      " 1   Age                   18207 non-null  int64  \n",
      " 2   Nationality           18207 non-null  object \n",
      " 3   Overall               18207 non-null  int64  \n",
      " 4   Potential             18207 non-null  int64  \n",
      " 5   Club                  18207 non-null  object \n",
      " 6   Value                 18207 non-null  object \n",
      " 7   Wage                  18207 non-null  object \n",
      " 8   Preferred Foot        18207 non-null  object \n",
      " 9   Weak Foot             18207 non-null  float64\n",
      " 10  Skill Moves           18207 non-null  float64\n",
      " 11  Work Rate             18207 non-null  object \n",
      " 12  Body Type             18207 non-null  object \n",
      " 13  Position              18207 non-null  object \n",
      " 14  Joined                18207 non-null  object \n",
      " 15  Contract Valid Until  18207 non-null  object \n",
      " 16  Height                18207 non-null  object \n",
      " 17  Crossing              18207 non-null  float64\n",
      " 18  Finishing             18207 non-null  float64\n",
      " 19  HeadingAccuracy       18207 non-null  float64\n",
      " 20  ShortPassing          18207 non-null  float64\n",
      " 21  Volleys               18207 non-null  float64\n",
      " 22  Dribbling             18207 non-null  float64\n",
      " 23  Curve                 18207 non-null  float64\n",
      " 24  FKAccuracy            18207 non-null  float64\n",
      " 25  LongPassing           18207 non-null  float64\n",
      " 26  BallControl           18207 non-null  float64\n",
      " 27  Acceleration          18207 non-null  float64\n",
      " 28  SprintSpeed           18207 non-null  float64\n",
      " 29  Agility               18207 non-null  float64\n",
      " 30  Reactions             18207 non-null  float64\n",
      " 31  Balance               18207 non-null  float64\n",
      " 32  ShotPower             18207 non-null  float64\n",
      " 33  Jumping               18207 non-null  float64\n",
      " 34  Stamina               18207 non-null  float64\n",
      " 35  Strength              18207 non-null  float64\n",
      " 36  LongShots             18207 non-null  float64\n",
      " 37  Aggression            18207 non-null  float64\n",
      " 38  Interceptions         18207 non-null  float64\n",
      " 39  Positioning           18207 non-null  float64\n",
      " 40  Vision                18207 non-null  float64\n",
      " 41  Penalties             18207 non-null  float64\n",
      " 42  Composure             18207 non-null  float64\n",
      " 43  Marking               18207 non-null  float64\n",
      " 44  StandingTackle        18207 non-null  float64\n",
      " 45  SlidingTackle         18207 non-null  float64\n",
      " 46  GKDiving              18207 non-null  float64\n",
      " 47  GKHandling            18207 non-null  float64\n",
      " 48  GKKicking             18207 non-null  float64\n",
      " 49  GKPositioning         18207 non-null  float64\n",
      " 50  GKReflexes            18207 non-null  float64\n",
      " 51  Release Clause        18207 non-null  object \n",
      "dtypes: float64(36), int64(3), object(13)\n",
      "memory usage: 7.4+ MB\n"
     ]
    }
   ],
   "source": [
    "df.info()"
   ]
  },
  {
   "cell_type": "markdown",
   "id": "127dd28d",
   "metadata": {
    "id": "Uv8dxrxdVRmi",
    "papermill": {
     "duration": 0.023342,
     "end_time": "2022-10-21T19:45:31.731863",
     "exception": false,
     "start_time": "2022-10-21T19:45:31.708521",
     "status": "completed"
    },
    "tags": []
   },
   "source": [
    "#### Clean value and wage coulmns\n",
    "\n",
    "\n"
   ]
  },
  {
   "cell_type": "code",
   "execution_count": 16,
   "id": "992b35da",
   "metadata": {},
   "outputs": [],
   "source": [
    "def convert_M_and_K(x):\n",
    "    if x[-1] == 'M':\n",
    "        x = float(x[:-1])\n",
    "        x = x * 1000000\n",
    "        x = int(x)\n",
    "    elif x[-1] == 'K':\n",
    "        x = float(x[:-1])\n",
    "        x = x * 1000\n",
    "        x = int(x)\n",
    "    else:\n",
    "        x = int(x)\n",
    "    return x"
   ]
  },
  {
   "cell_type": "code",
   "execution_count": 17,
   "id": "75630f48",
   "metadata": {},
   "outputs": [
    {
     "data": {
      "text/plain": [
       "'€110.5M'"
      ]
     },
     "execution_count": 17,
     "metadata": {},
     "output_type": "execute_result"
    }
   ],
   "source": [
    "df['Value'].iat[0]"
   ]
  },
  {
   "cell_type": "code",
   "execution_count": 18,
   "id": "c98a3a68",
   "metadata": {
    "execution": {
     "iopub.execute_input": "2022-10-21T19:45:31.780671Z",
     "iopub.status.busy": "2022-10-21T19:45:31.780241Z",
     "iopub.status.idle": "2022-10-21T19:45:31.794456Z",
     "shell.execute_reply": "2022-10-21T19:45:31.793357Z"
    },
    "id": "Ahhy1jxGMzXk",
    "papermill": {
     "duration": 0.0413,
     "end_time": "2022-10-21T19:45:31.796715",
     "exception": false,
     "start_time": "2022-10-21T19:45:31.755415",
     "status": "completed"
    },
    "tags": []
   },
   "outputs": [],
   "source": [
    "df['Value']=df['Value'].apply(lambda x:x.split('€')[1])"
   ]
  },
  {
   "cell_type": "code",
   "execution_count": 19,
   "id": "6c312365",
   "metadata": {
    "execution": {
     "iopub.execute_input": "2022-10-21T19:45:31.845757Z",
     "iopub.status.busy": "2022-10-21T19:45:31.845350Z",
     "iopub.status.idle": "2022-10-21T19:45:31.933862Z",
     "shell.execute_reply": "2022-10-21T19:45:31.932703Z"
    },
    "id": "g84qaTK5-6Wg",
    "papermill": {
     "duration": 0.115878,
     "end_time": "2022-10-21T19:45:31.936476",
     "exception": false,
     "start_time": "2022-10-21T19:45:31.820598",
     "status": "completed"
    },
    "tags": []
   },
   "outputs": [],
   "source": [
    "df['Value']=df['Value'].apply(convert_M_and_K)"
   ]
  },
  {
   "cell_type": "code",
   "execution_count": 20,
   "id": "612dd323",
   "metadata": {
    "execution": {
     "iopub.execute_input": "2022-10-21T19:45:32.111241Z",
     "iopub.status.busy": "2022-10-21T19:45:32.110825Z",
     "iopub.status.idle": "2022-10-21T19:45:32.119224Z",
     "shell.execute_reply": "2022-10-21T19:45:32.118206Z"
    },
    "id": "nHWk98L6_BWg",
    "outputId": "ff38ac15-73e8-4baf-b534-81c4081e2221",
    "papermill": {
     "duration": 0.03531,
     "end_time": "2022-10-21T19:45:32.121304",
     "exception": false,
     "start_time": "2022-10-21T19:45:32.085994",
     "status": "completed"
    },
    "tags": []
   },
   "outputs": [
    {
     "data": {
      "text/plain": [
       "110500000"
      ]
     },
     "execution_count": 20,
     "metadata": {},
     "output_type": "execute_result"
    }
   ],
   "source": [
    "df['Value'].iat[0]"
   ]
  },
  {
   "cell_type": "code",
   "execution_count": 21,
   "id": "1c191417",
   "metadata": {},
   "outputs": [
    {
     "data": {
      "text/plain": [
       "'€565K'"
      ]
     },
     "execution_count": 21,
     "metadata": {},
     "output_type": "execute_result"
    }
   ],
   "source": [
    "df['Wage'].iat[0]"
   ]
  },
  {
   "cell_type": "code",
   "execution_count": 22,
   "id": "ef15d370",
   "metadata": {
    "execution": {
     "iopub.execute_input": "2022-10-21T19:45:32.170536Z",
     "iopub.status.busy": "2022-10-21T19:45:32.170104Z",
     "iopub.status.idle": "2022-10-21T19:45:32.183392Z",
     "shell.execute_reply": "2022-10-21T19:45:32.182491Z"
    },
    "id": "TtssHeo1M-7r",
    "papermill": {
     "duration": 0.040582,
     "end_time": "2022-10-21T19:45:32.185645",
     "exception": false,
     "start_time": "2022-10-21T19:45:32.145063",
     "status": "completed"
    },
    "tags": []
   },
   "outputs": [],
   "source": [
    "df['Wage']=df['Wage'].apply(lambda x:x.split('€')[1])"
   ]
  },
  {
   "cell_type": "code",
   "execution_count": 23,
   "id": "f6dd6a51",
   "metadata": {},
   "outputs": [],
   "source": [
    "df['Wage']=df['Wage'].apply(convert_M_and_K)"
   ]
  },
  {
   "cell_type": "code",
   "execution_count": 24,
   "id": "4858fc98",
   "metadata": {
    "execution": {
     "iopub.execute_input": "2022-10-21T19:45:32.493597Z",
     "iopub.status.busy": "2022-10-21T19:45:32.492927Z",
     "iopub.status.idle": "2022-10-21T19:45:32.501033Z",
     "shell.execute_reply": "2022-10-21T19:45:32.499971Z"
    },
    "id": "w3jIpePoTUJM",
    "outputId": "c76079d8-1952-460e-b45f-3e9db8553fcc",
    "papermill": {
     "duration": 0.035365,
     "end_time": "2022-10-21T19:45:32.503338",
     "exception": false,
     "start_time": "2022-10-21T19:45:32.467973",
     "status": "completed"
    },
    "tags": []
   },
   "outputs": [
    {
     "data": {
      "text/plain": [
       "565000"
      ]
     },
     "execution_count": 24,
     "metadata": {},
     "output_type": "execute_result"
    }
   ],
   "source": [
    "df['Wage'].iat[0]"
   ]
  },
  {
   "cell_type": "markdown",
   "id": "302803e8",
   "metadata": {
    "id": "8VDdYTXaTdhA",
    "papermill": {
     "duration": 0.024259,
     "end_time": "2022-10-21T19:45:32.551524",
     "exception": false,
     "start_time": "2022-10-21T19:45:32.527265",
     "status": "completed"
    },
    "tags": []
   },
   "source": [
    "#### Convert JOINED to datetime objects"
   ]
  },
  {
   "cell_type": "code",
   "execution_count": 25,
   "id": "192f17a5",
   "metadata": {},
   "outputs": [
    {
     "data": {
      "text/plain": [
       "'Jul 1, 2004'"
      ]
     },
     "execution_count": 25,
     "metadata": {},
     "output_type": "execute_result"
    }
   ],
   "source": [
    "df['Joined'].iat[0]"
   ]
  },
  {
   "cell_type": "code",
   "execution_count": 26,
   "id": "f276af35",
   "metadata": {
    "execution": {
     "iopub.execute_input": "2022-10-21T19:45:32.663158Z",
     "iopub.status.busy": "2022-10-21T19:45:32.662495Z",
     "iopub.status.idle": "2022-10-21T19:45:32.856276Z",
     "shell.execute_reply": "2022-10-21T19:45:32.855055Z"
    },
    "id": "iEMNTdeLTElS",
    "papermill": {
     "duration": 0.222232,
     "end_time": "2022-10-21T19:45:32.859037",
     "exception": false,
     "start_time": "2022-10-21T19:45:32.636805",
     "status": "completed"
    },
    "tags": []
   },
   "outputs": [],
   "source": [
    "df['Joined']=pd.to_datetime(df['Joined'])"
   ]
  },
  {
   "cell_type": "code",
   "execution_count": 27,
   "id": "5fef0e11",
   "metadata": {
    "execution": {
     "iopub.execute_input": "2022-10-21T19:45:32.961511Z",
     "iopub.status.busy": "2022-10-21T19:45:32.961057Z",
     "iopub.status.idle": "2022-10-21T19:45:32.969580Z",
     "shell.execute_reply": "2022-10-21T19:45:32.968248Z"
    },
    "id": "Hc-4Qdw_YGtI",
    "papermill": {
     "duration": 0.036402,
     "end_time": "2022-10-21T19:45:32.971857",
     "exception": false,
     "start_time": "2022-10-21T19:45:32.935455",
     "status": "completed"
    },
    "tags": []
   },
   "outputs": [],
   "source": [
    "df['joined_month']=df['Joined'].dt.month"
   ]
  },
  {
   "cell_type": "code",
   "execution_count": 28,
   "id": "d328bc39",
   "metadata": {},
   "outputs": [
    {
     "data": {
      "text/plain": [
       "7"
      ]
     },
     "execution_count": 28,
     "metadata": {},
     "output_type": "execute_result"
    }
   ],
   "source": [
    "df['joined_month'].iat[0]"
   ]
  },
  {
   "cell_type": "code",
   "execution_count": 29,
   "id": "f42eee91",
   "metadata": {
    "execution": {
     "iopub.execute_input": "2022-10-21T19:45:33.022159Z",
     "iopub.status.busy": "2022-10-21T19:45:33.021743Z",
     "iopub.status.idle": "2022-10-21T19:45:33.029542Z",
     "shell.execute_reply": "2022-10-21T19:45:33.028433Z"
    },
    "id": "WR5QmBaxYben",
    "papermill": {
     "duration": 0.035426,
     "end_time": "2022-10-21T19:45:33.031772",
     "exception": false,
     "start_time": "2022-10-21T19:45:32.996346",
     "status": "completed"
    },
    "tags": []
   },
   "outputs": [],
   "source": [
    "df['Joined_year']=df['Joined'].dt.year"
   ]
  },
  {
   "cell_type": "code",
   "execution_count": 30,
   "id": "bca89a8c",
   "metadata": {},
   "outputs": [
    {
     "data": {
      "text/plain": [
       "2004"
      ]
     },
     "execution_count": 30,
     "metadata": {},
     "output_type": "execute_result"
    }
   ],
   "source": [
    "df['Joined_year'].iat[0]"
   ]
  },
  {
   "cell_type": "markdown",
   "id": "f554ca2f",
   "metadata": {
    "id": "PddnT-wGYQzY",
    "papermill": {
     "duration": 0.02397,
     "end_time": "2022-10-21T19:45:33.080160",
     "exception": false,
     "start_time": "2022-10-21T19:45:33.056190",
     "status": "completed"
    },
    "tags": []
   },
   "source": [
    "#### Convert height from feet to meter"
   ]
  },
  {
   "cell_type": "code",
   "execution_count": 31,
   "id": "25bc6e91",
   "metadata": {
    "execution": {
     "iopub.execute_input": "2022-10-21T19:45:33.130139Z",
     "iopub.status.busy": "2022-10-21T19:45:33.129734Z",
     "iopub.status.idle": "2022-10-21T19:45:33.138424Z",
     "shell.execute_reply": "2022-10-21T19:45:33.137577Z"
    },
    "id": "wTtCRIHGzPns",
    "outputId": "359e3b9c-a4d7-49d8-e2c7-ceef65b8a172",
    "papermill": {
     "duration": 0.036016,
     "end_time": "2022-10-21T19:45:33.140491",
     "exception": false,
     "start_time": "2022-10-21T19:45:33.104475",
     "status": "completed"
    },
    "tags": []
   },
   "outputs": [
    {
     "data": {
      "text/plain": [
       "\"5'7\""
      ]
     },
     "execution_count": 31,
     "metadata": {},
     "output_type": "execute_result"
    }
   ],
   "source": [
    "df['Height'].iat[0]"
   ]
  },
  {
   "cell_type": "code",
   "execution_count": 32,
   "id": "58d3a9bb",
   "metadata": {
    "execution": {
     "iopub.execute_input": "2022-10-21T19:45:33.191224Z",
     "iopub.status.busy": "2022-10-21T19:45:33.190530Z",
     "iopub.status.idle": "2022-10-21T19:45:33.203160Z",
     "shell.execute_reply": "2022-10-21T19:45:33.202223Z"
    },
    "id": "lY4aDEKlE88k",
    "papermill": {
     "duration": 0.040803,
     "end_time": "2022-10-21T19:45:33.205535",
     "exception": false,
     "start_time": "2022-10-21T19:45:33.164732",
     "status": "completed"
    },
    "tags": []
   },
   "outputs": [],
   "source": [
    "df['Height_n1']=df['Height'].apply(lambda x:x.split(\"'\")[0])"
   ]
  },
  {
   "cell_type": "code",
   "execution_count": 33,
   "id": "3bc94264",
   "metadata": {
    "execution": {
     "iopub.execute_input": "2022-10-21T19:45:33.257358Z",
     "iopub.status.busy": "2022-10-21T19:45:33.256659Z",
     "iopub.status.idle": "2022-10-21T19:45:33.269165Z",
     "shell.execute_reply": "2022-10-21T19:45:33.268375Z"
    },
    "id": "xqWwmn61VCG2",
    "papermill": {
     "duration": 0.041118,
     "end_time": "2022-10-21T19:45:33.271487",
     "exception": false,
     "start_time": "2022-10-21T19:45:33.230369",
     "status": "completed"
    },
    "tags": []
   },
   "outputs": [],
   "source": [
    "df['Height_n2']=df['Height'].apply(lambda x:x.split(\"'\")[1])"
   ]
  },
  {
   "cell_type": "code",
   "execution_count": 34,
   "id": "a0d3a68b",
   "metadata": {
    "execution": {
     "iopub.execute_input": "2022-10-21T19:45:33.382569Z",
     "iopub.status.busy": "2022-10-21T19:45:33.381866Z",
     "iopub.status.idle": "2022-10-21T19:45:33.395769Z",
     "shell.execute_reply": "2022-10-21T19:45:33.394611Z"
    },
    "id": "FdB-hzftYeGl",
    "papermill": {
     "duration": 0.042924,
     "end_time": "2022-10-21T19:45:33.398291",
     "exception": false,
     "start_time": "2022-10-21T19:45:33.355367",
     "status": "completed"
    },
    "tags": []
   },
   "outputs": [],
   "source": [
    "df['Height_n1']=pd.to_numeric(df['Height_n1'],errors='coerce')"
   ]
  },
  {
   "cell_type": "code",
   "execution_count": 35,
   "id": "8298a420",
   "metadata": {
    "execution": {
     "iopub.execute_input": "2022-10-21T19:45:33.448746Z",
     "iopub.status.busy": "2022-10-21T19:45:33.448375Z",
     "iopub.status.idle": "2022-10-21T19:45:33.463352Z",
     "shell.execute_reply": "2022-10-21T19:45:33.462046Z"
    },
    "id": "-6OYvAplY1WW",
    "papermill": {
     "duration": 0.043325,
     "end_time": "2022-10-21T19:45:33.465693",
     "exception": false,
     "start_time": "2022-10-21T19:45:33.422368",
     "status": "completed"
    },
    "tags": []
   },
   "outputs": [],
   "source": [
    "df['Height_n2']=pd.to_numeric(df['Height_n2'],errors='coerce')"
   ]
  },
  {
   "cell_type": "code",
   "execution_count": 36,
   "id": "8a8968ee",
   "metadata": {
    "execution": {
     "iopub.execute_input": "2022-10-21T19:45:33.564200Z",
     "iopub.status.busy": "2022-10-21T19:45:33.563758Z",
     "iopub.status.idle": "2022-10-21T19:45:33.571078Z",
     "shell.execute_reply": "2022-10-21T19:45:33.569764Z"
    },
    "id": "lIgPbXs2VK1e",
    "papermill": {
     "duration": 0.035357,
     "end_time": "2022-10-21T19:45:33.573553",
     "exception": false,
     "start_time": "2022-10-21T19:45:33.538196",
     "status": "completed"
    },
    "tags": []
   },
   "outputs": [],
   "source": [
    "df['Height_m']=(df['Height_n1']* 0.3048)+(df['Height_n2']*0.0254)"
   ]
  },
  {
   "cell_type": "code",
   "execution_count": 37,
   "id": "ba1a17db",
   "metadata": {
    "execution": {
     "iopub.execute_input": "2022-10-21T19:45:33.623079Z",
     "iopub.status.busy": "2022-10-21T19:45:33.622689Z",
     "iopub.status.idle": "2022-10-21T19:45:33.632689Z",
     "shell.execute_reply": "2022-10-21T19:45:33.631545Z"
    },
    "id": "q8wkpfsBjyh4",
    "outputId": "4816d17d-0b1c-443d-b245-6923022b351e",
    "papermill": {
     "duration": 0.037492,
     "end_time": "2022-10-21T19:45:33.635006",
     "exception": false,
     "start_time": "2022-10-21T19:45:33.597514",
     "status": "completed"
    },
    "tags": []
   },
   "outputs": [
    {
     "data": {
      "text/plain": [
       "1.7018"
      ]
     },
     "execution_count": 37,
     "metadata": {},
     "output_type": "execute_result"
    }
   ],
   "source": [
    "df['Height_m'].iat[0]"
   ]
  },
  {
   "cell_type": "markdown",
   "id": "c1f817fd",
   "metadata": {
    "id": "Pd1eJ_dbAsBo",
    "papermill": {
     "duration": 0.023998,
     "end_time": "2022-10-21T19:45:33.683588",
     "exception": false,
     "start_time": "2022-10-21T19:45:33.659590",
     "status": "completed"
    },
    "tags": []
   },
   "source": [
    "#### Clean release clause column"
   ]
  },
  {
   "cell_type": "code",
   "execution_count": 38,
   "id": "fd165d57",
   "metadata": {
    "execution": {
     "iopub.execute_input": "2022-10-21T19:45:33.733806Z",
     "iopub.status.busy": "2022-10-21T19:45:33.733414Z",
     "iopub.status.idle": "2022-10-21T19:45:33.741755Z",
     "shell.execute_reply": "2022-10-21T19:45:33.740633Z"
    },
    "id": "dXbr2RxYzziU",
    "outputId": "cefd5b2f-faff-43bb-f03a-60a7cc69b084",
    "papermill": {
     "duration": 0.036189,
     "end_time": "2022-10-21T19:45:33.743989",
     "exception": false,
     "start_time": "2022-10-21T19:45:33.707800",
     "status": "completed"
    },
    "tags": []
   },
   "outputs": [
    {
     "data": {
      "text/plain": [
       "'€226.5M'"
      ]
     },
     "execution_count": 38,
     "metadata": {},
     "output_type": "execute_result"
    }
   ],
   "source": [
    "df['Release Clause'].iat[0]"
   ]
  },
  {
   "cell_type": "code",
   "execution_count": 39,
   "id": "30765746",
   "metadata": {
    "execution": {
     "iopub.execute_input": "2022-10-21T19:45:33.799043Z",
     "iopub.status.busy": "2022-10-21T19:45:33.798647Z",
     "iopub.status.idle": "2022-10-21T19:45:33.812142Z",
     "shell.execute_reply": "2022-10-21T19:45:33.810848Z"
    },
    "id": "ohvMa5g5-Mjb",
    "papermill": {
     "duration": 0.045708,
     "end_time": "2022-10-21T19:45:33.814743",
     "exception": false,
     "start_time": "2022-10-21T19:45:33.769035",
     "status": "completed"
    },
    "tags": []
   },
   "outputs": [],
   "source": [
    "df['Release Clause']=df['Release Clause'].apply(lambda x:x.split('€')[1])"
   ]
  },
  {
   "cell_type": "code",
   "execution_count": 40,
   "id": "4ca490f1",
   "metadata": {},
   "outputs": [],
   "source": [
    "df['Release Clause']=df['Release Clause'].apply(convert_M_and_K)"
   ]
  },
  {
   "cell_type": "code",
   "execution_count": 41,
   "id": "d7f36a98",
   "metadata": {},
   "outputs": [
    {
     "data": {
      "text/plain": [
       "226500000"
      ]
     },
     "execution_count": 41,
     "metadata": {},
     "output_type": "execute_result"
    }
   ],
   "source": [
    "df['Release Clause'].iat[0]"
   ]
  },
  {
   "cell_type": "markdown",
   "id": "b4ead08f",
   "metadata": {
    "id": "VdTzgV2F1nbV",
    "papermill": {
     "duration": 0.024472,
     "end_time": "2022-10-21T19:45:34.068795",
     "exception": false,
     "start_time": "2022-10-21T19:45:34.044323",
     "status": "completed"
    },
    "tags": []
   },
   "source": [
    "#### Create total payement column -> total_payment = Wage + Release Clause"
   ]
  },
  {
   "cell_type": "code",
   "execution_count": 42,
   "id": "b578d866",
   "metadata": {
    "execution": {
     "iopub.execute_input": "2022-10-21T19:45:34.189829Z",
     "iopub.status.busy": "2022-10-21T19:45:34.189418Z",
     "iopub.status.idle": "2022-10-21T19:45:34.195089Z",
     "shell.execute_reply": "2022-10-21T19:45:34.194362Z"
    },
    "id": "W-TD0zFS1dzk",
    "papermill": {
     "duration": 0.034312,
     "end_time": "2022-10-21T19:45:34.197253",
     "exception": false,
     "start_time": "2022-10-21T19:45:34.162941",
     "status": "completed"
    },
    "tags": []
   },
   "outputs": [],
   "source": [
    "df['total_payment']=df['Wage']+df['Release Clause']"
   ]
  },
  {
   "cell_type": "code",
   "execution_count": 43,
   "id": "14257ba2",
   "metadata": {
    "execution": {
     "iopub.execute_input": "2022-10-21T19:45:34.250793Z",
     "iopub.status.busy": "2022-10-21T19:45:34.249807Z",
     "iopub.status.idle": "2022-10-21T19:45:34.255431Z",
     "shell.execute_reply": "2022-10-21T19:45:34.254441Z"
    },
    "id": "fcIKMXWa1iH4",
    "papermill": {
     "duration": 0.034924,
     "end_time": "2022-10-21T19:45:34.257659",
     "exception": false,
     "start_time": "2022-10-21T19:45:34.222735",
     "status": "completed"
    },
    "tags": []
   },
   "outputs": [],
   "source": [
    "df['total_payment']=df['total_payment'].astype(int)"
   ]
  },
  {
   "cell_type": "code",
   "execution_count": 44,
   "id": "9011d6c5",
   "metadata": {
    "execution": {
     "iopub.execute_input": "2022-10-21T19:45:34.308555Z",
     "iopub.status.busy": "2022-10-21T19:45:34.308146Z",
     "iopub.status.idle": "2022-10-21T19:45:34.316180Z",
     "shell.execute_reply": "2022-10-21T19:45:34.314907Z"
    },
    "id": "jTuBVxwv1maU",
    "outputId": "e41427c1-a094-4444-c49c-503d56ca598a",
    "papermill": {
     "duration": 0.036211,
     "end_time": "2022-10-21T19:45:34.318691",
     "exception": false,
     "start_time": "2022-10-21T19:45:34.282480",
     "status": "completed"
    },
    "tags": []
   },
   "outputs": [
    {
     "data": {
      "text/plain": [
       "227065000"
      ]
     },
     "execution_count": 44,
     "metadata": {},
     "output_type": "execute_result"
    }
   ],
   "source": [
    "df['total_payment'].iat[0]"
   ]
  },
  {
   "cell_type": "markdown",
   "id": "9b8d6594",
   "metadata": {},
   "source": [
    "## Data visualization <a name = \"Visualization\"></a>  "
   ]
  },
  {
   "cell_type": "markdown",
   "id": "6accd234",
   "metadata": {
    "id": "ygC7jBQ_wj6l",
    "papermill": {
     "duration": 0.024923,
     "end_time": "2022-10-21T19:45:34.368443",
     "exception": false,
     "start_time": "2022-10-21T19:45:34.343520",
     "status": "completed"
    },
    "tags": []
   },
   "source": [
    "### univariate analysis <a name = \"Univariate_analysis\"></a>  "
   ]
  },
  {
   "cell_type": "markdown",
   "id": "a92afebd",
   "metadata": {
    "id": "dTkfir3Dl0Ag",
    "papermill": {
     "duration": 0.025182,
     "end_time": "2022-10-21T19:45:34.419827",
     "exception": false,
     "start_time": "2022-10-21T19:45:34.394645",
     "status": "completed"
    },
    "tags": []
   },
   "source": [
    "#### 1- What is the distribution of the players age ?"
   ]
  },
  {
   "cell_type": "code",
   "execution_count": 45,
   "id": "1faef380",
   "metadata": {
    "execution": {
     "iopub.execute_input": "2022-10-21T19:45:34.470210Z",
     "iopub.status.busy": "2022-10-21T19:45:34.469829Z",
     "iopub.status.idle": "2022-10-21T19:45:34.975683Z",
     "shell.execute_reply": "2022-10-21T19:45:34.974509Z"
    },
    "id": "enSeLRCzwLzl",
    "outputId": "ed6923a0-87de-4721-952f-dd5091625f73",
    "papermill": {
     "duration": 0.533912,
     "end_time": "2022-10-21T19:45:34.978276",
     "exception": false,
     "start_time": "2022-10-21T19:45:34.444364",
     "status": "completed"
    },
    "tags": []
   },
   "outputs": [
    {
     "data": {
      "image/png": "[encoded data removed]",
      "text/plain": [
       "<Figure size 1500x800 with 1 Axes>"
      ]
     },
     "metadata": {},
     "output_type": "display_data"
    }
   ],
   "source": [
    "sns.kdeplot(df['Age'],shade=True,color='r');"
   ]
  },
  {
   "cell_type": "markdown",
   "id": "330f15a6",
   "metadata": {
    "id": "B2iPBPj-x5hl",
    "papermill": {
     "duration": 0.025137,
     "end_time": "2022-10-21T19:45:35.028800",
     "exception": false,
     "start_time": "2022-10-21T19:45:35.003663",
     "status": "completed"
    },
    "tags": []
   },
   "source": [
    "#### 2-what is the range of overall evaluation for the football players ?\n"
   ]
  },
  {
   "cell_type": "code",
   "execution_count": 46,
   "id": "3413d48f",
   "metadata": {
    "execution": {
     "iopub.execute_input": "2022-10-21T19:45:35.081109Z",
     "iopub.status.busy": "2022-10-21T19:45:35.080716Z",
     "iopub.status.idle": "2022-10-21T19:45:35.531176Z",
     "shell.execute_reply": "2022-10-21T19:45:35.530078Z"
    },
    "id": "u6htzHYWwSha",
    "outputId": "04673659-028a-45bf-ad1e-6f5881af19ed",
    "papermill": {
     "duration": 0.479398,
     "end_time": "2022-10-21T19:45:35.533649",
     "exception": false,
     "start_time": "2022-10-21T19:45:35.054251",
     "status": "completed"
    },
    "tags": []
   },
   "outputs": [
    {
     "data": {
      "image/png": "[encoded data removed]",
      "text/plain": [
       "<Figure size 1500x800 with 1 Axes>"
      ]
     },
     "metadata": {},
     "output_type": "display_data"
    }
   ],
   "source": [
    "sns.histplot(df['Overall']);"
   ]
  },
  {
   "cell_type": "markdown",
   "id": "3747ffc2",
   "metadata": {
    "id": "IIKNTZLiyFJH",
    "papermill": {
     "duration": 0.025379,
     "end_time": "2022-10-21T19:45:35.584916",
     "exception": false,
     "start_time": "2022-10-21T19:45:35.559537",
     "status": "completed"
    },
    "tags": []
   },
   "source": [
    "#### 3- How many players in each position? "
   ]
  },
  {
   "cell_type": "code",
   "execution_count": 47,
   "id": "ff1604db",
   "metadata": {
    "execution": {
     "iopub.execute_input": "2022-10-21T19:45:35.637825Z",
     "iopub.status.busy": "2022-10-21T19:45:35.637437Z",
     "iopub.status.idle": "2022-10-21T19:45:35.646639Z",
     "shell.execute_reply": "2022-10-21T19:45:35.645633Z"
    },
    "id": "12o-RxWqnXkT",
    "papermill": {
     "duration": 0.038551,
     "end_time": "2022-10-21T19:45:35.649062",
     "exception": false,
     "start_time": "2022-10-21T19:45:35.610511",
     "status": "completed"
    },
    "tags": []
   },
   "outputs": [],
   "source": [
    "c = pd.DataFrame(df.groupby(\"Position\")['Position'].count().sort_values(ascending=False).head(20))"
   ]
  },
  {
   "cell_type": "code",
   "execution_count": 48,
   "id": "54db10bf",
   "metadata": {
    "execution": {
     "iopub.execute_input": "2022-10-21T19:45:35.702892Z",
     "iopub.status.busy": "2022-10-21T19:45:35.702458Z",
     "iopub.status.idle": "2022-10-21T19:45:36.121926Z",
     "shell.execute_reply": "2022-10-21T19:45:36.120838Z"
    },
    "id": "VaZ46tpnrOFI",
    "outputId": "ed59a6e6-3b93-4b26-ca80-e8d81c715aa3",
    "papermill": {
     "duration": 0.448816,
     "end_time": "2022-10-21T19:45:36.124214",
     "exception": false,
     "start_time": "2022-10-21T19:45:35.675398",
     "status": "completed"
    },
    "tags": []
   },
   "outputs": [
    {
     "data": {
      "image/png": "[encoded data removed]",
      "text/plain": [
       "<Figure size 1500x800 with 1 Axes>"
      ]
     },
     "metadata": {},
     "output_type": "display_data"
    }
   ],
   "source": [
    "sns.barplot(data = c, x=c.index , y='Position')\n",
    "plt.xticks(rotation = 45);"
   ]
  },
  {
   "cell_type": "markdown",
   "id": "d32c9322",
   "metadata": {
    "id": "ZspIdAQyyzxJ",
    "papermill": {
     "duration": 0.026352,
     "end_time": "2022-10-21T19:45:36.177432",
     "exception": false,
     "start_time": "2022-10-21T19:45:36.151080",
     "status": "completed"
    },
    "tags": []
   },
   "source": [
    "#### 4-Number of players evaluated by there work rate ??"
   ]
  },
  {
   "cell_type": "code",
   "execution_count": 49,
   "id": "27c86d11",
   "metadata": {
    "execution": {
     "iopub.execute_input": "2022-10-21T19:45:36.233105Z",
     "iopub.status.busy": "2022-10-21T19:45:36.232475Z",
     "iopub.status.idle": "2022-10-21T19:45:36.565433Z",
     "shell.execute_reply": "2022-10-21T19:45:36.564292Z"
    },
    "id": "uE0X9u0mwYeQ",
    "outputId": "30579511-e4ad-477a-bffc-9b2d9e0b3aad",
    "papermill": {
     "duration": 0.364004,
     "end_time": "2022-10-21T19:45:36.568135",
     "exception": false,
     "start_time": "2022-10-21T19:45:36.204131",
     "status": "completed"
    },
    "tags": []
   },
   "outputs": [
    {
     "data": {
      "image/png": "[encoded data removed]",
      "text/plain": [
       "<Figure size 1500x800 with 1 Axes>"
      ]
     },
     "metadata": {},
     "output_type": "display_data"
    }
   ],
   "source": [
    "sns.countplot(data=df,y='Work Rate');\n",
    "plt.xticks(rotation=45);"
   ]
  },
  {
   "cell_type": "markdown",
   "id": "e55f28f2",
   "metadata": {},
   "source": [
    "### Bivariate analysis <a name = \"Bivariate_analysis\"></a>  "
   ]
  },
  {
   "cell_type": "markdown",
   "id": "80fba6d7",
   "metadata": {
    "id": "jhU_RgLYPO1G",
    "papermill": {
     "duration": 0.026589,
     "end_time": "2022-10-21T19:45:36.622134",
     "exception": false,
     "start_time": "2022-10-21T19:45:36.595545",
     "status": "completed"
    },
    "tags": []
   },
   "source": [
    "#### 5-distribution of strength according to it's age?"
   ]
  },
  {
   "cell_type": "code",
   "execution_count": 50,
   "id": "7e4d61cb",
   "metadata": {
    "execution": {
     "iopub.execute_input": "2022-10-21T19:45:36.760634Z",
     "iopub.status.busy": "2022-10-21T19:45:36.759651Z",
     "iopub.status.idle": "2022-10-21T19:45:37.041663Z",
     "shell.execute_reply": "2022-10-21T19:45:37.040420Z"
    },
    "id": "nNyCgi3X9W-u",
    "outputId": "5c32bf14-3fe0-4326-b787-3941321f0219",
    "papermill": {
     "duration": 0.314489,
     "end_time": "2022-10-21T19:45:37.044415",
     "exception": false,
     "start_time": "2022-10-21T19:45:36.729926",
     "status": "completed"
    },
    "tags": []
   },
   "outputs": [
    {
     "data": {
      "image/png": "[encoded data removed]",
      "text/plain": [
       "<Figure size 1500x800 with 1 Axes>"
      ]
     },
     "metadata": {},
     "output_type": "display_data"
    }
   ],
   "source": [
    "sns.barplot(data=df, x=\"Age\", y=\"Strength\");"
   ]
  },
  {
   "cell_type": "markdown",
   "id": "f9b9d978",
   "metadata": {
    "id": "omWZhEWtpkXA",
    "papermill": {
     "duration": 0.02878,
     "end_time": "2022-10-21T19:45:37.102882",
     "exception": false,
     "start_time": "2022-10-21T19:45:37.074102",
     "status": "completed"
    },
    "tags": []
   },
   "source": [
    "#### 6- What is the relation between the Value the fifa put for the player and wage the players take in fact ?"
   ]
  },
  {
   "cell_type": "code",
   "execution_count": 51,
   "id": "6ec6b4e5",
   "metadata": {
    "execution": {
     "iopub.execute_input": "2022-10-21T19:45:37.164444Z",
     "iopub.status.busy": "2022-10-21T19:45:37.164041Z",
     "iopub.status.idle": "2022-10-21T19:45:46.017777Z",
     "shell.execute_reply": "2022-10-21T19:45:46.016681Z"
    },
    "id": "thydQUnh0XkU",
    "outputId": "b52ed103-a87a-4ef9-b18a-1556ae5c20a0",
    "papermill": {
     "duration": 8.888322,
     "end_time": "2022-10-21T19:45:46.020417",
     "exception": false,
     "start_time": "2022-10-21T19:45:37.132095",
     "status": "completed"
    },
    "tags": []
   },
   "outputs": [
    {
     "data": {
      "image/png": "[encoded data removed]",
      "text/plain": [
       "<Figure size 1500x800 with 1 Axes>"
      ]
     },
     "metadata": {},
     "output_type": "display_data"
    }
   ],
   "source": [
    "sns.regplot(data=df,x='Value',y='Wage');"
   ]
  },
  {
   "cell_type": "markdown",
   "id": "f0d8de56",
   "metadata": {
    "id": "umX4qwO804CQ",
    "papermill": {
     "duration": 0.029547,
     "end_time": "2022-10-21T19:45:46.080889",
     "exception": false,
     "start_time": "2022-10-21T19:45:46.051342",
     "status": "completed"
    },
    "tags": []
   },
   "source": [
    "#### 7-what is the most **preffered foot** for the players ?"
   ]
  },
  {
   "cell_type": "code",
   "execution_count": 52,
   "id": "85512f33",
   "metadata": {
    "execution": {
     "iopub.execute_input": "2022-10-21T19:45:46.142377Z",
     "iopub.status.busy": "2022-10-21T19:45:46.141977Z",
     "iopub.status.idle": "2022-10-21T19:45:46.255507Z",
     "shell.execute_reply": "2022-10-21T19:45:46.253916Z"
    },
    "id": "3KYbk_-L0opM",
    "outputId": "879ed451-9167-4a16-c8d4-f61f66daf32b",
    "papermill": {
     "duration": 0.149559,
     "end_time": "2022-10-21T19:45:46.260597",
     "exception": false,
     "start_time": "2022-10-21T19:45:46.111038",
     "status": "completed"
    },
    "tags": []
   },
   "outputs": [
    {
     "data": {
      "image/png": "[encoded data removed]",
      "text/plain": [
       "<Figure size 1500x800 with 1 Axes>"
      ]
     },
     "metadata": {},
     "output_type": "display_data"
    }
   ],
   "source": [
    "x=df['Preferred Foot'].value_counts()\n",
    "y=['Right foot','Left foot']\n",
    "cols = ['c','m']\n",
    "plt.pie(x,labels=y,colors=cols, autopct='%1.1f%%');"
   ]
  },
  {
   "cell_type": "markdown",
   "id": "6e314581",
   "metadata": {},
   "source": [
    "### Descriptive analysis <a name = \"Descriptive_analysis\"></a>  "
   ]
  },
  {
   "cell_type": "markdown",
   "id": "5eb4128a",
   "metadata": {
    "id": "VJBIBPg8rU2R",
    "papermill": {
     "duration": 0.029552,
     "end_time": "2022-10-21T19:45:46.501197",
     "exception": false,
     "start_time": "2022-10-21T19:45:46.471645",
     "status": "completed"
    },
    "tags": []
   },
   "source": [
    "#### 8-Who are the best 10 playersin Fifa?"
   ]
  },
  {
   "cell_type": "code",
   "execution_count": 53,
   "id": "570ef4b9",
   "metadata": {
    "execution": {
     "iopub.execute_input": "2022-10-21T19:45:46.564066Z",
     "iopub.status.busy": "2022-10-21T19:45:46.563367Z",
     "iopub.status.idle": "2022-10-21T19:45:46.597699Z",
     "shell.execute_reply": "2022-10-21T19:45:46.596713Z"
    },
    "id": "dBVGgrZGz15w",
    "papermill": {
     "duration": 0.069128,
     "end_time": "2022-10-21T19:45:46.600502",
     "exception": false,
     "start_time": "2022-10-21T19:45:46.531374",
     "status": "completed"
    },
    "tags": []
   },
   "outputs": [],
   "source": [
    "players=df.groupby(['Age','Overall','Preferred Foot','Position','Height_m','total_payment','Wage','Release Clause','Contract Valid Until'])[['Name']].sum().sort_values(by='Overall',ascending=False)[:10]"
   ]
  },
  {
   "cell_type": "code",
   "execution_count": 54,
   "id": "0ae40dc7",
   "metadata": {
    "execution": {
     "iopub.execute_input": "2022-10-21T19:45:46.664212Z",
     "iopub.status.busy": "2022-10-21T19:45:46.663548Z",
     "iopub.status.idle": "2022-10-21T19:45:46.696467Z",
     "shell.execute_reply": "2022-10-21T19:45:46.695522Z"
    },
    "id": "yw43NjRtAG0Q",
    "outputId": "71022a49-0459-421e-fab6-7ebfa560c4ab",
    "papermill": {
     "duration": 0.067502,
     "end_time": "2022-10-21T19:45:46.699018",
     "exception": false,
     "start_time": "2022-10-21T19:45:46.631516",
     "status": "completed"
    },
    "tags": []
   },
   "outputs": [
    {
     "data": {
      "text/html": [
       "<div>\n",
       "<style scoped>\n",
       "    .dataframe tbody tr th:only-of-type {\n",
       "        vertical-align: middle;\n",
       "    }\n",
       "\n",
       "    .dataframe tbody tr th {\n",
       "        vertical-align: top;\n",
       "    }\n",
       "\n",
       "    .dataframe thead th {\n",
       "        text-align: right;\n",
       "    }\n",
       "</style>\n",
       "<table border=\"1\" class=\"dataframe\">\n",
       "  <thead>\n",
       "    <tr style=\"text-align: right;\">\n",
       "      <th></th>\n",
       "      <th></th>\n",
       "      <th></th>\n",
       "      <th></th>\n",
       "      <th></th>\n",
       "      <th></th>\n",
       "      <th></th>\n",
       "      <th></th>\n",
       "      <th></th>\n",
       "      <th>Name</th>\n",
       "    </tr>\n",
       "    <tr>\n",
       "      <th>Age</th>\n",
       "      <th>Overall</th>\n",
       "      <th>Preferred Foot</th>\n",
       "      <th>Position</th>\n",
       "      <th>Height_m</th>\n",
       "      <th>total_payment</th>\n",
       "      <th>Wage</th>\n",
       "      <th>Release Clause</th>\n",
       "      <th>Contract Valid Until</th>\n",
       "      <th></th>\n",
       "    </tr>\n",
       "  </thead>\n",
       "  <tbody>\n",
       "    <tr>\n",
       "      <th>33</th>\n",
       "      <th>94</th>\n",
       "      <th>Right</th>\n",
       "      <th>ST</th>\n",
       "      <th>1.8796</th>\n",
       "      <th>127505000</th>\n",
       "      <th>405000</th>\n",
       "      <th>127100000</th>\n",
       "      <th>2022</th>\n",
       "      <td>Cristiano Ronaldo</td>\n",
       "    </tr>\n",
       "    <tr>\n",
       "      <th>31</th>\n",
       "      <th>94</th>\n",
       "      <th>Left</th>\n",
       "      <th>RF</th>\n",
       "      <th>1.7018</th>\n",
       "      <th>227065000</th>\n",
       "      <th>565000</th>\n",
       "      <th>226500000</th>\n",
       "      <th>2021</th>\n",
       "      <td>L. Messi</td>\n",
       "    </tr>\n",
       "    <tr>\n",
       "      <th>26</th>\n",
       "      <th>92</th>\n",
       "      <th>Right</th>\n",
       "      <th>LW</th>\n",
       "      <th>1.7526</th>\n",
       "      <th>228390000</th>\n",
       "      <th>290000</th>\n",
       "      <th>228100000</th>\n",
       "      <th>2022</th>\n",
       "      <td>Neymar Jr</td>\n",
       "    </tr>\n",
       "    <tr>\n",
       "      <th rowspan=\"3\" valign=\"top\">27</th>\n",
       "      <th rowspan=\"3\" valign=\"top\">91</th>\n",
       "      <th rowspan=\"3\" valign=\"top\">Right</th>\n",
       "      <th>GK</th>\n",
       "      <th>1.9304</th>\n",
       "      <th>138860000</th>\n",
       "      <th>260000</th>\n",
       "      <th>138600000</th>\n",
       "      <th>2020</th>\n",
       "      <td>De Gea</td>\n",
       "    </tr>\n",
       "    <tr>\n",
       "      <th>LF</th>\n",
       "      <th>1.7272</th>\n",
       "      <th>172440000</th>\n",
       "      <th>340000</th>\n",
       "      <th>172100000</th>\n",
       "      <th>2020</th>\n",
       "      <td>E. Hazard</td>\n",
       "    </tr>\n",
       "    <tr>\n",
       "      <th>RCM</th>\n",
       "      <th>1.8034</th>\n",
       "      <th>196755000</th>\n",
       "      <th>355000</th>\n",
       "      <th>196400000</th>\n",
       "      <th>2023</th>\n",
       "      <td>K. De Bruyne</td>\n",
       "    </tr>\n",
       "    <tr>\n",
       "      <th rowspan=\"2\" valign=\"top\">32</th>\n",
       "      <th rowspan=\"2\" valign=\"top\">91</th>\n",
       "      <th rowspan=\"2\" valign=\"top\">Right</th>\n",
       "      <th>RCB</th>\n",
       "      <th>1.8288</th>\n",
       "      <th>104980000</th>\n",
       "      <th>380000</th>\n",
       "      <th>104600000</th>\n",
       "      <th>2020</th>\n",
       "      <td>Sergio Ramos</td>\n",
       "    </tr>\n",
       "    <tr>\n",
       "      <th>RCM</th>\n",
       "      <th>1.7272</th>\n",
       "      <th>137820000</th>\n",
       "      <th>420000</th>\n",
       "      <th>137400000</th>\n",
       "      <th>2020</th>\n",
       "      <td>L. Modrić</td>\n",
       "    </tr>\n",
       "    <tr>\n",
       "      <th>31</th>\n",
       "      <th>91</th>\n",
       "      <th>Right</th>\n",
       "      <th>RS</th>\n",
       "      <th>1.8288</th>\n",
       "      <th>164455000</th>\n",
       "      <th>455000</th>\n",
       "      <th>164000000</th>\n",
       "      <th>2021</th>\n",
       "      <td>L. Suárez</td>\n",
       "    </tr>\n",
       "    <tr>\n",
       "      <th>32</th>\n",
       "      <th>90</th>\n",
       "      <th>Right</th>\n",
       "      <th>CB</th>\n",
       "      <th>1.8796</th>\n",
       "      <th>90325000</th>\n",
       "      <th>125000</th>\n",
       "      <th>90200000</th>\n",
       "      <th>2019</th>\n",
       "      <td>D. Godín</td>\n",
       "    </tr>\n",
       "  </tbody>\n",
       "</table>\n",
       "</div>"
      ],
      "text/plain": [
       "                                                                                                                    Name\n",
       "Age Overall Preferred Foot Position Height_m total_payment Wage   Release Clause Contract Valid Until                   \n",
       "33  94      Right          ST       1.8796   127505000     405000 127100000      2022                  Cristiano Ronaldo\n",
       "31  94      Left           RF       1.7018   227065000     565000 226500000      2021                           L. Messi\n",
       "26  92      Right          LW       1.7526   228390000     290000 228100000      2022                          Neymar Jr\n",
       "27  91      Right          GK       1.9304   138860000     260000 138600000      2020                             De Gea\n",
       "                           LF       1.7272   172440000     340000 172100000      2020                          E. Hazard\n",
       "                           RCM      1.8034   196755000     355000 196400000      2023                       K. De Bruyne\n",
       "32  91      Right          RCB      1.8288   104980000     380000 104600000      2020                       Sergio Ramos\n",
       "                           RCM      1.7272   137820000     420000 137400000      2020                          L. Modrić\n",
       "31  91      Right          RS       1.8288   164455000     455000 164000000      2021                          L. Suárez\n",
       "32  90      Right          CB       1.8796   90325000      125000 90200000       2019                           D. Godín"
      ]
     },
     "execution_count": 54,
     "metadata": {},
     "output_type": "execute_result"
    }
   ],
   "source": [
    "players"
   ]
  },
  {
   "cell_type": "markdown",
   "id": "881a563d",
   "metadata": {
    "id": "cRrG5SJdkE5R",
    "papermill": {
     "duration": 0.031232,
     "end_time": "2022-10-21T19:45:46.762024",
     "exception": false,
     "start_time": "2022-10-21T19:45:46.730792",
     "status": "completed"
    },
    "tags": []
   },
   "source": [
    "#### 9-Who are the best 10 goalkeepers in Fifa?"
   ]
  },
  {
   "cell_type": "code",
   "execution_count": 55,
   "id": "4f7e6b20",
   "metadata": {
    "execution": {
     "iopub.execute_input": "2022-10-21T19:45:46.827035Z",
     "iopub.status.busy": "2022-10-21T19:45:46.826305Z",
     "iopub.status.idle": "2022-10-21T19:45:46.834617Z",
     "shell.execute_reply": "2022-10-21T19:45:46.833546Z"
    },
    "id": "B6Csj0EUgQIT",
    "papermill": {
     "duration": 0.043341,
     "end_time": "2022-10-21T19:45:46.836978",
     "exception": false,
     "start_time": "2022-10-21T19:45:46.793637",
     "status": "completed"
    },
    "tags": []
   },
   "outputs": [],
   "source": [
    "df_GK=df[df['Position']=='GK']"
   ]
  },
  {
   "cell_type": "code",
   "execution_count": 56,
   "id": "946507b1",
   "metadata": {
    "execution": {
     "iopub.execute_input": "2022-10-21T19:45:46.903066Z",
     "iopub.status.busy": "2022-10-21T19:45:46.901908Z",
     "iopub.status.idle": "2022-10-21T19:45:46.918632Z",
     "shell.execute_reply": "2022-10-21T19:45:46.917708Z"
    },
    "id": "aU99PPUYgiaF",
    "papermill": {
     "duration": 0.052174,
     "end_time": "2022-10-21T19:45:46.921123",
     "exception": false,
     "start_time": "2022-10-21T19:45:46.868949",
     "status": "completed"
    },
    "tags": []
   },
   "outputs": [],
   "source": [
    "goalkeepers=df_GK.groupby(['GKReflexes','GKPositioning','GKKicking','GKHandling','GKDiving','Height_m','Strength','Club','Nationality','Age','Overall','Contract Valid Until','total_payment'])[['Name']].sum().sort_values(by='Overall',ascending=False)[0:10]"
   ]
  },
  {
   "cell_type": "code",
   "execution_count": 57,
   "id": "48f1e82f",
   "metadata": {
    "execution": {
     "iopub.execute_input": "2022-10-21T19:45:46.986107Z",
     "iopub.status.busy": "2022-10-21T19:45:46.984780Z",
     "iopub.status.idle": "2022-10-21T19:45:47.011276Z",
     "shell.execute_reply": "2022-10-21T19:45:47.010057Z"
    },
    "id": "VTM18UAGzTGM",
    "outputId": "87e281c2-6f53-42f8-9064-2648e89918e8",
    "papermill": {
     "duration": 0.061302,
     "end_time": "2022-10-21T19:45:47.013750",
     "exception": false,
     "start_time": "2022-10-21T19:45:46.952448",
     "status": "completed"
    },
    "tags": []
   },
   "outputs": [
    {
     "data": {
      "text/html": [
       "<div>\n",
       "<style scoped>\n",
       "    .dataframe tbody tr th:only-of-type {\n",
       "        vertical-align: middle;\n",
       "    }\n",
       "\n",
       "    .dataframe tbody tr th {\n",
       "        vertical-align: top;\n",
       "    }\n",
       "\n",
       "    .dataframe thead th {\n",
       "        text-align: right;\n",
       "    }\n",
       "</style>\n",
       "<table border=\"1\" class=\"dataframe\">\n",
       "  <thead>\n",
       "    <tr style=\"text-align: right;\">\n",
       "      <th></th>\n",
       "      <th></th>\n",
       "      <th></th>\n",
       "      <th></th>\n",
       "      <th></th>\n",
       "      <th></th>\n",
       "      <th></th>\n",
       "      <th></th>\n",
       "      <th></th>\n",
       "      <th></th>\n",
       "      <th></th>\n",
       "      <th></th>\n",
       "      <th></th>\n",
       "      <th>Name</th>\n",
       "    </tr>\n",
       "    <tr>\n",
       "      <th>GKReflexes</th>\n",
       "      <th>GKPositioning</th>\n",
       "      <th>GKKicking</th>\n",
       "      <th>GKHandling</th>\n",
       "      <th>GKDiving</th>\n",
       "      <th>Height_m</th>\n",
       "      <th>Strength</th>\n",
       "      <th>Club</th>\n",
       "      <th>Nationality</th>\n",
       "      <th>Age</th>\n",
       "      <th>Overall</th>\n",
       "      <th>Contract Valid Until</th>\n",
       "      <th>total_payment</th>\n",
       "      <th></th>\n",
       "    </tr>\n",
       "  </thead>\n",
       "  <tbody>\n",
       "    <tr>\n",
       "      <th>94.0</th>\n",
       "      <th>88.0</th>\n",
       "      <th>87.0</th>\n",
       "      <th>85.0</th>\n",
       "      <th>90.0</th>\n",
       "      <th>1.9304</th>\n",
       "      <th>64.0</th>\n",
       "      <th>Manchester United</th>\n",
       "      <th>Spain</th>\n",
       "      <th>27</th>\n",
       "      <th>91</th>\n",
       "      <th>2020</th>\n",
       "      <th>138860000</th>\n",
       "      <td>De Gea</td>\n",
       "    </tr>\n",
       "    <tr>\n",
       "      <th>89.0</th>\n",
       "      <th>88.0</th>\n",
       "      <th>78.0</th>\n",
       "      <th>92.0</th>\n",
       "      <th>86.0</th>\n",
       "      <th>1.8796</th>\n",
       "      <th>78.0</th>\n",
       "      <th>Atlético Madrid</th>\n",
       "      <th>Slovenia</th>\n",
       "      <th>25</th>\n",
       "      <th>90</th>\n",
       "      <th>2021</th>\n",
       "      <th>144594000</th>\n",
       "      <td>J. Oblak</td>\n",
       "    </tr>\n",
       "    <tr>\n",
       "      <th>87.0</th>\n",
       "      <th>87.0</th>\n",
       "      <th>91.0</th>\n",
       "      <th>86.0</th>\n",
       "      <th>90.0</th>\n",
       "      <th>1.9304</th>\n",
       "      <th>80.0</th>\n",
       "      <th>FC Bayern München</th>\n",
       "      <th>Germany</th>\n",
       "      <th>32</th>\n",
       "      <th>89</th>\n",
       "      <th>2021</th>\n",
       "      <th>62830000</th>\n",
       "      <td>M. Neuer</td>\n",
       "    </tr>\n",
       "    <tr>\n",
       "      <th>90.0</th>\n",
       "      <th>85.0</th>\n",
       "      <th>88.0</th>\n",
       "      <th>85.0</th>\n",
       "      <th>87.0</th>\n",
       "      <th>1.8796</th>\n",
       "      <th>79.0</th>\n",
       "      <th>FC Barcelona</th>\n",
       "      <th>Germany</th>\n",
       "      <th>26</th>\n",
       "      <th>89</th>\n",
       "      <th>2022</th>\n",
       "      <th>123540000</th>\n",
       "      <td>M. ter Stegen</td>\n",
       "    </tr>\n",
       "    <tr>\n",
       "      <th>88.0</th>\n",
       "      <th>86.0</th>\n",
       "      <th>72.0</th>\n",
       "      <th>91.0</th>\n",
       "      <th>85.0</th>\n",
       "      <th>1.9812</th>\n",
       "      <th>70.0</th>\n",
       "      <th>Real Madrid</th>\n",
       "      <th>Belgium</th>\n",
       "      <th>26</th>\n",
       "      <th>89</th>\n",
       "      <th>2024</th>\n",
       "      <th>113940000</th>\n",
       "      <td>T. Courtois</td>\n",
       "    </tr>\n",
       "    <tr>\n",
       "      <th>92.0</th>\n",
       "      <th>83.0</th>\n",
       "      <th>68.0</th>\n",
       "      <th>84.0</th>\n",
       "      <th>88.0</th>\n",
       "      <th>1.8796</th>\n",
       "      <th>43.0</th>\n",
       "      <th>Tottenham Hotspur</th>\n",
       "      <th>France</th>\n",
       "      <th>31</th>\n",
       "      <th>88</th>\n",
       "      <th>2022</th>\n",
       "      <th>66749999</th>\n",
       "      <td>H. Lloris</td>\n",
       "    </tr>\n",
       "    <tr>\n",
       "      <th>89.0</th>\n",
       "      <th>89.0</th>\n",
       "      <th>69.0</th>\n",
       "      <th>86.0</th>\n",
       "      <th>87.0</th>\n",
       "      <th>1.9304</th>\n",
       "      <th>71.0</th>\n",
       "      <th>Inter</th>\n",
       "      <th>Slovenia</th>\n",
       "      <th>33</th>\n",
       "      <th>88</th>\n",
       "      <th>2021</th>\n",
       "      <th>51110000</th>\n",
       "      <td>S. Handanovič</td>\n",
       "    </tr>\n",
       "    <tr>\n",
       "      <th>83.0</th>\n",
       "      <th>90.0</th>\n",
       "      <th>74.0</th>\n",
       "      <th>87.0</th>\n",
       "      <th>88.0</th>\n",
       "      <th>1.9304</th>\n",
       "      <th>69.0</th>\n",
       "      <th>Paris Saint-Germain</th>\n",
       "      <th>Italy</th>\n",
       "      <th>40</th>\n",
       "      <th>88</th>\n",
       "      <th>2019</th>\n",
       "      <th>7477000</th>\n",
       "      <td>G. Buffon</td>\n",
       "    </tr>\n",
       "    <tr>\n",
       "      <th>90.0</th>\n",
       "      <th>82.0</th>\n",
       "      <th>75.0</th>\n",
       "      <th>81.0</th>\n",
       "      <th>90.0</th>\n",
       "      <th>1.8542</th>\n",
       "      <th>75.0</th>\n",
       "      <th>Real Madrid</th>\n",
       "      <th>Costa Rica</th>\n",
       "      <th>31</th>\n",
       "      <th>87</th>\n",
       "      <th>2020</th>\n",
       "      <th>62695000</th>\n",
       "      <td>K. Navas</td>\n",
       "    </tr>\n",
       "    <tr>\n",
       "      <th>87.0</th>\n",
       "      <th>82.0</th>\n",
       "      <th>91.0</th>\n",
       "      <th>80.0</th>\n",
       "      <th>85.0</th>\n",
       "      <th>1.8796</th>\n",
       "      <th>68.0</th>\n",
       "      <th>Manchester City</th>\n",
       "      <th>Brazil</th>\n",
       "      <th>24</th>\n",
       "      <th>86</th>\n",
       "      <th>2025</th>\n",
       "      <th>80025000</th>\n",
       "      <td>Ederson</td>\n",
       "    </tr>\n",
       "  </tbody>\n",
       "</table>\n",
       "</div>"
      ],
      "text/plain": [
       "                                                                                                                                                                  Name\n",
       "GKReflexes GKPositioning GKKicking GKHandling GKDiving Height_m Strength Club                Nationality Age Overall Contract Valid Until total_payment               \n",
       "94.0       88.0          87.0      85.0       90.0     1.9304   64.0     Manchester United   Spain       27  91      2020                 138860000             De Gea\n",
       "89.0       88.0          78.0      92.0       86.0     1.8796   78.0     Atlético Madrid     Slovenia    25  90      2021                 144594000           J. Oblak\n",
       "87.0       87.0          91.0      86.0       90.0     1.9304   80.0     FC Bayern München   Germany     32  89      2021                 62830000            M. Neuer\n",
       "90.0       85.0          88.0      85.0       87.0     1.8796   79.0     FC Barcelona        Germany     26  89      2022                 123540000      M. ter Stegen\n",
       "88.0       86.0          72.0      91.0       85.0     1.9812   70.0     Real Madrid         Belgium     26  89      2024                 113940000        T. Courtois\n",
       "92.0       83.0          68.0      84.0       88.0     1.8796   43.0     Tottenham Hotspur   France      31  88      2022                 66749999           H. Lloris\n",
       "89.0       89.0          69.0      86.0       87.0     1.9304   71.0     Inter               Slovenia    33  88      2021                 51110000       S. Handanovič\n",
       "83.0       90.0          74.0      87.0       88.0     1.9304   69.0     Paris Saint-Germain Italy       40  88      2019                 7477000            G. Buffon\n",
       "90.0       82.0          75.0      81.0       90.0     1.8542   75.0     Real Madrid         Costa Rica  31  87      2020                 62695000            K. Navas\n",
       "87.0       82.0          91.0      80.0       85.0     1.8796   68.0     Manchester City     Brazil      24  86      2025                 80025000             Ederson"
      ]
     },
     "execution_count": 57,
     "metadata": {},
     "output_type": "execute_result"
    }
   ],
   "source": [
    "goalkeepers"
   ]
  },
  {
   "cell_type": "markdown",
   "id": "99c985c4",
   "metadata": {
    "id": "ioEsSiZhvQZv",
    "papermill": {
     "duration": 0.031119,
     "end_time": "2022-10-21T19:45:47.077364",
     "exception": false,
     "start_time": "2022-10-21T19:45:47.046245",
     "status": "completed"
    },
    "tags": []
   },
   "source": [
    "### Drop unnecessary columns <a name = \"removing_columns\"></a>  "
   ]
  },
  {
   "cell_type": "code",
   "execution_count": 58,
   "id": "3cca57e2",
   "metadata": {
    "execution": {
     "iopub.execute_input": "2022-10-21T19:45:47.143004Z",
     "iopub.status.busy": "2022-10-21T19:45:47.142075Z",
     "iopub.status.idle": "2022-10-21T19:45:47.155138Z",
     "shell.execute_reply": "2022-10-21T19:45:47.154303Z"
    },
    "id": "87PN_4WhbzOz",
    "papermill": {
     "duration": 0.04879,
     "end_time": "2022-10-21T19:45:47.157558",
     "exception": false,
     "start_time": "2022-10-21T19:45:47.108768",
     "status": "completed"
    },
    "tags": []
   },
   "outputs": [],
   "source": [
    "df.drop(columns=['Height','Height_n1','Height_n2'],axis=1,inplace=True)"
   ]
  },
  {
   "cell_type": "code",
   "execution_count": null,
   "id": "34c2f289",
   "metadata": {},
   "outputs": [],
   "source": []
  }
 ],
 "metadata": {
  "kernelspec": {
   "display_name": "Python 3 (ipykernel)",
   "language": "python",
   "name": "python3"
  },
  "language_info": {
   "codemirror_mode": {
    "name": "ipython",
    "version": 3
   },
   "file_extension": ".py",
   "mimetype": "text/x-python",
   "name": "python",
   "nbconvert_exporter": "python",
   "pygments_lexer": "ipython3",
   "version": "3.9.7"
  },
  "papermill": {
   "default_parameters": {},
   "duration": 56.734114,
   "end_time": "2022-10-21T19:46:16.769025",
   "environment_variables": {},
   "exception": null,
   "input_path": "__notebook__.ipynb",
   "output_path": "__notebook__.ipynb",
   "parameters": {},
   "start_time": "2022-10-21T19:45:20.034911",
   "version": "2.3.4"
  }
 },
 "nbformat": 4,
 "nbformat_minor": 5
}
